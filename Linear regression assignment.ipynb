{
 "cells": [
  {
   "cell_type": "code",
   "execution_count": 1,
   "metadata": {},
   "outputs": [],
   "source": [
    "#import necessary libraries\n",
    "import numpy as np\n",
    "import pandas as pd\n",
    "import scipy.stats as stats\n",
    "import matplotlib.pyplot as plt\n",
    "\n",
    "from sklearn.datasets import load_boston\n",
    "from pandas_profiling import ProfileReport"
   ]
  },
  {
   "cell_type": "code",
   "execution_count": 16,
   "metadata": {},
   "outputs": [],
   "source": [
    "import seaborn as sns"
   ]
  },
  {
   "cell_type": "markdown",
   "metadata": {},
   "source": [
    "## Importing and creating dataset"
   ]
  },
  {
   "cell_type": "code",
   "execution_count": 2,
   "metadata": {},
   "outputs": [],
   "source": [
    "#loading boston dataset feature data\n",
    "boston = load_boston()\n",
    "bos = pd.DataFrame(boston.data,columns=boston.feature_names)"
   ]
  },
  {
   "cell_type": "code",
   "execution_count": 3,
   "metadata": {},
   "outputs": [
    {
     "data": {
      "text/html": [
       "<div>\n",
       "<style scoped>\n",
       "    .dataframe tbody tr th:only-of-type {\n",
       "        vertical-align: middle;\n",
       "    }\n",
       "\n",
       "    .dataframe tbody tr th {\n",
       "        vertical-align: top;\n",
       "    }\n",
       "\n",
       "    .dataframe thead th {\n",
       "        text-align: right;\n",
       "    }\n",
       "</style>\n",
       "<table border=\"1\" class=\"dataframe\">\n",
       "  <thead>\n",
       "    <tr style=\"text-align: right;\">\n",
       "      <th></th>\n",
       "      <th>CRIM</th>\n",
       "      <th>ZN</th>\n",
       "      <th>INDUS</th>\n",
       "      <th>CHAS</th>\n",
       "      <th>NOX</th>\n",
       "      <th>RM</th>\n",
       "      <th>AGE</th>\n",
       "      <th>DIS</th>\n",
       "      <th>RAD</th>\n",
       "      <th>TAX</th>\n",
       "      <th>PTRATIO</th>\n",
       "      <th>B</th>\n",
       "      <th>LSTAT</th>\n",
       "    </tr>\n",
       "  </thead>\n",
       "  <tbody>\n",
       "    <tr>\n",
       "      <th>0</th>\n",
       "      <td>0.00632</td>\n",
       "      <td>18.0</td>\n",
       "      <td>2.31</td>\n",
       "      <td>0.0</td>\n",
       "      <td>0.538</td>\n",
       "      <td>6.575</td>\n",
       "      <td>65.2</td>\n",
       "      <td>4.0900</td>\n",
       "      <td>1.0</td>\n",
       "      <td>296.0</td>\n",
       "      <td>15.3</td>\n",
       "      <td>396.90</td>\n",
       "      <td>4.98</td>\n",
       "    </tr>\n",
       "    <tr>\n",
       "      <th>1</th>\n",
       "      <td>0.02731</td>\n",
       "      <td>0.0</td>\n",
       "      <td>7.07</td>\n",
       "      <td>0.0</td>\n",
       "      <td>0.469</td>\n",
       "      <td>6.421</td>\n",
       "      <td>78.9</td>\n",
       "      <td>4.9671</td>\n",
       "      <td>2.0</td>\n",
       "      <td>242.0</td>\n",
       "      <td>17.8</td>\n",
       "      <td>396.90</td>\n",
       "      <td>9.14</td>\n",
       "    </tr>\n",
       "    <tr>\n",
       "      <th>2</th>\n",
       "      <td>0.02729</td>\n",
       "      <td>0.0</td>\n",
       "      <td>7.07</td>\n",
       "      <td>0.0</td>\n",
       "      <td>0.469</td>\n",
       "      <td>7.185</td>\n",
       "      <td>61.1</td>\n",
       "      <td>4.9671</td>\n",
       "      <td>2.0</td>\n",
       "      <td>242.0</td>\n",
       "      <td>17.8</td>\n",
       "      <td>392.83</td>\n",
       "      <td>4.03</td>\n",
       "    </tr>\n",
       "    <tr>\n",
       "      <th>3</th>\n",
       "      <td>0.03237</td>\n",
       "      <td>0.0</td>\n",
       "      <td>2.18</td>\n",
       "      <td>0.0</td>\n",
       "      <td>0.458</td>\n",
       "      <td>6.998</td>\n",
       "      <td>45.8</td>\n",
       "      <td>6.0622</td>\n",
       "      <td>3.0</td>\n",
       "      <td>222.0</td>\n",
       "      <td>18.7</td>\n",
       "      <td>394.63</td>\n",
       "      <td>2.94</td>\n",
       "    </tr>\n",
       "    <tr>\n",
       "      <th>4</th>\n",
       "      <td>0.06905</td>\n",
       "      <td>0.0</td>\n",
       "      <td>2.18</td>\n",
       "      <td>0.0</td>\n",
       "      <td>0.458</td>\n",
       "      <td>7.147</td>\n",
       "      <td>54.2</td>\n",
       "      <td>6.0622</td>\n",
       "      <td>3.0</td>\n",
       "      <td>222.0</td>\n",
       "      <td>18.7</td>\n",
       "      <td>396.90</td>\n",
       "      <td>5.33</td>\n",
       "    </tr>\n",
       "  </tbody>\n",
       "</table>\n",
       "</div>"
      ],
      "text/plain": [
       "      CRIM    ZN  INDUS  CHAS    NOX     RM   AGE     DIS  RAD    TAX  \\\n",
       "0  0.00632  18.0   2.31   0.0  0.538  6.575  65.2  4.0900  1.0  296.0   \n",
       "1  0.02731   0.0   7.07   0.0  0.469  6.421  78.9  4.9671  2.0  242.0   \n",
       "2  0.02729   0.0   7.07   0.0  0.469  7.185  61.1  4.9671  2.0  242.0   \n",
       "3  0.03237   0.0   2.18   0.0  0.458  6.998  45.8  6.0622  3.0  222.0   \n",
       "4  0.06905   0.0   2.18   0.0  0.458  7.147  54.2  6.0622  3.0  222.0   \n",
       "\n",
       "   PTRATIO       B  LSTAT  \n",
       "0     15.3  396.90   4.98  \n",
       "1     17.8  396.90   9.14  \n",
       "2     17.8  392.83   4.03  \n",
       "3     18.7  394.63   2.94  \n",
       "4     18.7  396.90   5.33  "
      ]
     },
     "execution_count": 3,
     "metadata": {},
     "output_type": "execute_result"
    }
   ],
   "source": [
    "bos.head()"
   ]
  },
  {
   "cell_type": "code",
   "execution_count": 4,
   "metadata": {},
   "outputs": [
    {
     "data": {
      "text/html": [
       "<div>\n",
       "<style scoped>\n",
       "    .dataframe tbody tr th:only-of-type {\n",
       "        vertical-align: middle;\n",
       "    }\n",
       "\n",
       "    .dataframe tbody tr th {\n",
       "        vertical-align: top;\n",
       "    }\n",
       "\n",
       "    .dataframe thead th {\n",
       "        text-align: right;\n",
       "    }\n",
       "</style>\n",
       "<table border=\"1\" class=\"dataframe\">\n",
       "  <thead>\n",
       "    <tr style=\"text-align: right;\">\n",
       "      <th></th>\n",
       "      <th>Target</th>\n",
       "    </tr>\n",
       "  </thead>\n",
       "  <tbody>\n",
       "    <tr>\n",
       "      <th>0</th>\n",
       "      <td>24.0</td>\n",
       "    </tr>\n",
       "    <tr>\n",
       "      <th>1</th>\n",
       "      <td>21.6</td>\n",
       "    </tr>\n",
       "    <tr>\n",
       "      <th>2</th>\n",
       "      <td>34.7</td>\n",
       "    </tr>\n",
       "    <tr>\n",
       "      <th>3</th>\n",
       "      <td>33.4</td>\n",
       "    </tr>\n",
       "    <tr>\n",
       "      <th>4</th>\n",
       "      <td>36.2</td>\n",
       "    </tr>\n",
       "  </tbody>\n",
       "</table>\n",
       "</div>"
      ],
      "text/plain": [
       "   Target\n",
       "0    24.0\n",
       "1    21.6\n",
       "2    34.7\n",
       "3    33.4\n",
       "4    36.2"
      ]
     },
     "execution_count": 4,
     "metadata": {},
     "output_type": "execute_result"
    }
   ],
   "source": [
    "#loading boston dataset target data\n",
    "bos_t=pd.DataFrame(boston.target,columns=['Target'])\n",
    "bos_t.head()"
   ]
  },
  {
   "cell_type": "code",
   "execution_count": 5,
   "metadata": {},
   "outputs": [
    {
     "name": "stdout",
     "output_type": "stream",
     "text": [
      "(506, 13)\n",
      "(506, 1)\n"
     ]
    }
   ],
   "source": [
    "print(bos.shape)\n",
    "print(bos_t.shape)"
   ]
  },
  {
   "cell_type": "code",
   "execution_count": 6,
   "metadata": {},
   "outputs": [
    {
     "data": {
      "text/html": [
       "<div>\n",
       "<style scoped>\n",
       "    .dataframe tbody tr th:only-of-type {\n",
       "        vertical-align: middle;\n",
       "    }\n",
       "\n",
       "    .dataframe tbody tr th {\n",
       "        vertical-align: top;\n",
       "    }\n",
       "\n",
       "    .dataframe thead th {\n",
       "        text-align: right;\n",
       "    }\n",
       "</style>\n",
       "<table border=\"1\" class=\"dataframe\">\n",
       "  <thead>\n",
       "    <tr style=\"text-align: right;\">\n",
       "      <th></th>\n",
       "      <th>CRIM</th>\n",
       "      <th>ZN</th>\n",
       "      <th>INDUS</th>\n",
       "      <th>CHAS</th>\n",
       "      <th>NOX</th>\n",
       "      <th>RM</th>\n",
       "      <th>AGE</th>\n",
       "      <th>DIS</th>\n",
       "      <th>RAD</th>\n",
       "      <th>TAX</th>\n",
       "      <th>PTRATIO</th>\n",
       "      <th>B</th>\n",
       "      <th>LSTAT</th>\n",
       "      <th>Target</th>\n",
       "    </tr>\n",
       "  </thead>\n",
       "  <tbody>\n",
       "    <tr>\n",
       "      <th>0</th>\n",
       "      <td>0.00632</td>\n",
       "      <td>18.0</td>\n",
       "      <td>2.31</td>\n",
       "      <td>0.0</td>\n",
       "      <td>0.538</td>\n",
       "      <td>6.575</td>\n",
       "      <td>65.2</td>\n",
       "      <td>4.0900</td>\n",
       "      <td>1.0</td>\n",
       "      <td>296.0</td>\n",
       "      <td>15.3</td>\n",
       "      <td>396.90</td>\n",
       "      <td>4.98</td>\n",
       "      <td>24.0</td>\n",
       "    </tr>\n",
       "    <tr>\n",
       "      <th>1</th>\n",
       "      <td>0.02731</td>\n",
       "      <td>0.0</td>\n",
       "      <td>7.07</td>\n",
       "      <td>0.0</td>\n",
       "      <td>0.469</td>\n",
       "      <td>6.421</td>\n",
       "      <td>78.9</td>\n",
       "      <td>4.9671</td>\n",
       "      <td>2.0</td>\n",
       "      <td>242.0</td>\n",
       "      <td>17.8</td>\n",
       "      <td>396.90</td>\n",
       "      <td>9.14</td>\n",
       "      <td>21.6</td>\n",
       "    </tr>\n",
       "    <tr>\n",
       "      <th>2</th>\n",
       "      <td>0.02729</td>\n",
       "      <td>0.0</td>\n",
       "      <td>7.07</td>\n",
       "      <td>0.0</td>\n",
       "      <td>0.469</td>\n",
       "      <td>7.185</td>\n",
       "      <td>61.1</td>\n",
       "      <td>4.9671</td>\n",
       "      <td>2.0</td>\n",
       "      <td>242.0</td>\n",
       "      <td>17.8</td>\n",
       "      <td>392.83</td>\n",
       "      <td>4.03</td>\n",
       "      <td>34.7</td>\n",
       "    </tr>\n",
       "    <tr>\n",
       "      <th>3</th>\n",
       "      <td>0.03237</td>\n",
       "      <td>0.0</td>\n",
       "      <td>2.18</td>\n",
       "      <td>0.0</td>\n",
       "      <td>0.458</td>\n",
       "      <td>6.998</td>\n",
       "      <td>45.8</td>\n",
       "      <td>6.0622</td>\n",
       "      <td>3.0</td>\n",
       "      <td>222.0</td>\n",
       "      <td>18.7</td>\n",
       "      <td>394.63</td>\n",
       "      <td>2.94</td>\n",
       "      <td>33.4</td>\n",
       "    </tr>\n",
       "    <tr>\n",
       "      <th>4</th>\n",
       "      <td>0.06905</td>\n",
       "      <td>0.0</td>\n",
       "      <td>2.18</td>\n",
       "      <td>0.0</td>\n",
       "      <td>0.458</td>\n",
       "      <td>7.147</td>\n",
       "      <td>54.2</td>\n",
       "      <td>6.0622</td>\n",
       "      <td>3.0</td>\n",
       "      <td>222.0</td>\n",
       "      <td>18.7</td>\n",
       "      <td>396.90</td>\n",
       "      <td>5.33</td>\n",
       "      <td>36.2</td>\n",
       "    </tr>\n",
       "  </tbody>\n",
       "</table>\n",
       "</div>"
      ],
      "text/plain": [
       "      CRIM    ZN  INDUS  CHAS    NOX     RM   AGE     DIS  RAD    TAX  \\\n",
       "0  0.00632  18.0   2.31   0.0  0.538  6.575  65.2  4.0900  1.0  296.0   \n",
       "1  0.02731   0.0   7.07   0.0  0.469  6.421  78.9  4.9671  2.0  242.0   \n",
       "2  0.02729   0.0   7.07   0.0  0.469  7.185  61.1  4.9671  2.0  242.0   \n",
       "3  0.03237   0.0   2.18   0.0  0.458  6.998  45.8  6.0622  3.0  222.0   \n",
       "4  0.06905   0.0   2.18   0.0  0.458  7.147  54.2  6.0622  3.0  222.0   \n",
       "\n",
       "   PTRATIO       B  LSTAT  Target  \n",
       "0     15.3  396.90   4.98    24.0  \n",
       "1     17.8  396.90   9.14    21.6  \n",
       "2     17.8  392.83   4.03    34.7  \n",
       "3     18.7  394.63   2.94    33.4  \n",
       "4     18.7  396.90   5.33    36.2  "
      ]
     },
     "execution_count": 6,
     "metadata": {},
     "output_type": "execute_result"
    }
   ],
   "source": [
    "#Combine feature and target data\n",
    "df=pd.concat([bos,bos_t],axis=1)\n",
    "df.head()"
   ]
  },
  {
   "cell_type": "code",
   "execution_count": 7,
   "metadata": {},
   "outputs": [
    {
     "data": {
      "text/plain": [
       "(506, 14)"
      ]
     },
     "execution_count": 7,
     "metadata": {},
     "output_type": "execute_result"
    }
   ],
   "source": [
    "#Size of the data\n",
    "df.shape"
   ]
  },
  {
   "cell_type": "code",
   "execution_count": 8,
   "metadata": {
    "scrolled": true
   },
   "outputs": [
    {
     "data": {
      "text/html": [
       "<div>\n",
       "<style scoped>\n",
       "    .dataframe tbody tr th:only-of-type {\n",
       "        vertical-align: middle;\n",
       "    }\n",
       "\n",
       "    .dataframe tbody tr th {\n",
       "        vertical-align: top;\n",
       "    }\n",
       "\n",
       "    .dataframe thead th {\n",
       "        text-align: right;\n",
       "    }\n",
       "</style>\n",
       "<table border=\"1\" class=\"dataframe\">\n",
       "  <thead>\n",
       "    <tr style=\"text-align: right;\">\n",
       "      <th></th>\n",
       "      <th>CRIM</th>\n",
       "      <th>ZN</th>\n",
       "      <th>INDUS</th>\n",
       "      <th>CHAS</th>\n",
       "      <th>NOX</th>\n",
       "      <th>RM</th>\n",
       "      <th>AGE</th>\n",
       "      <th>DIS</th>\n",
       "      <th>RAD</th>\n",
       "      <th>TAX</th>\n",
       "      <th>PTRATIO</th>\n",
       "      <th>B</th>\n",
       "      <th>LSTAT</th>\n",
       "      <th>Target</th>\n",
       "    </tr>\n",
       "  </thead>\n",
       "  <tbody>\n",
       "    <tr>\n",
       "      <th>count</th>\n",
       "      <td>506.000000</td>\n",
       "      <td>506.000000</td>\n",
       "      <td>506.000000</td>\n",
       "      <td>506.000000</td>\n",
       "      <td>506.000000</td>\n",
       "      <td>506.000000</td>\n",
       "      <td>506.000000</td>\n",
       "      <td>506.000000</td>\n",
       "      <td>506.000000</td>\n",
       "      <td>506.000000</td>\n",
       "      <td>506.000000</td>\n",
       "      <td>506.000000</td>\n",
       "      <td>506.000000</td>\n",
       "      <td>506.000000</td>\n",
       "    </tr>\n",
       "    <tr>\n",
       "      <th>mean</th>\n",
       "      <td>3.613524</td>\n",
       "      <td>11.363636</td>\n",
       "      <td>11.136779</td>\n",
       "      <td>0.069170</td>\n",
       "      <td>0.554695</td>\n",
       "      <td>6.284634</td>\n",
       "      <td>68.574901</td>\n",
       "      <td>3.795043</td>\n",
       "      <td>9.549407</td>\n",
       "      <td>408.237154</td>\n",
       "      <td>18.455534</td>\n",
       "      <td>356.674032</td>\n",
       "      <td>12.653063</td>\n",
       "      <td>22.532806</td>\n",
       "    </tr>\n",
       "    <tr>\n",
       "      <th>std</th>\n",
       "      <td>8.601545</td>\n",
       "      <td>23.322453</td>\n",
       "      <td>6.860353</td>\n",
       "      <td>0.253994</td>\n",
       "      <td>0.115878</td>\n",
       "      <td>0.702617</td>\n",
       "      <td>28.148861</td>\n",
       "      <td>2.105710</td>\n",
       "      <td>8.707259</td>\n",
       "      <td>168.537116</td>\n",
       "      <td>2.164946</td>\n",
       "      <td>91.294864</td>\n",
       "      <td>7.141062</td>\n",
       "      <td>9.197104</td>\n",
       "    </tr>\n",
       "    <tr>\n",
       "      <th>min</th>\n",
       "      <td>0.006320</td>\n",
       "      <td>0.000000</td>\n",
       "      <td>0.460000</td>\n",
       "      <td>0.000000</td>\n",
       "      <td>0.385000</td>\n",
       "      <td>3.561000</td>\n",
       "      <td>2.900000</td>\n",
       "      <td>1.129600</td>\n",
       "      <td>1.000000</td>\n",
       "      <td>187.000000</td>\n",
       "      <td>12.600000</td>\n",
       "      <td>0.320000</td>\n",
       "      <td>1.730000</td>\n",
       "      <td>5.000000</td>\n",
       "    </tr>\n",
       "    <tr>\n",
       "      <th>25%</th>\n",
       "      <td>0.082045</td>\n",
       "      <td>0.000000</td>\n",
       "      <td>5.190000</td>\n",
       "      <td>0.000000</td>\n",
       "      <td>0.449000</td>\n",
       "      <td>5.885500</td>\n",
       "      <td>45.025000</td>\n",
       "      <td>2.100175</td>\n",
       "      <td>4.000000</td>\n",
       "      <td>279.000000</td>\n",
       "      <td>17.400000</td>\n",
       "      <td>375.377500</td>\n",
       "      <td>6.950000</td>\n",
       "      <td>17.025000</td>\n",
       "    </tr>\n",
       "    <tr>\n",
       "      <th>50%</th>\n",
       "      <td>0.256510</td>\n",
       "      <td>0.000000</td>\n",
       "      <td>9.690000</td>\n",
       "      <td>0.000000</td>\n",
       "      <td>0.538000</td>\n",
       "      <td>6.208500</td>\n",
       "      <td>77.500000</td>\n",
       "      <td>3.207450</td>\n",
       "      <td>5.000000</td>\n",
       "      <td>330.000000</td>\n",
       "      <td>19.050000</td>\n",
       "      <td>391.440000</td>\n",
       "      <td>11.360000</td>\n",
       "      <td>21.200000</td>\n",
       "    </tr>\n",
       "    <tr>\n",
       "      <th>75%</th>\n",
       "      <td>3.677083</td>\n",
       "      <td>12.500000</td>\n",
       "      <td>18.100000</td>\n",
       "      <td>0.000000</td>\n",
       "      <td>0.624000</td>\n",
       "      <td>6.623500</td>\n",
       "      <td>94.075000</td>\n",
       "      <td>5.188425</td>\n",
       "      <td>24.000000</td>\n",
       "      <td>666.000000</td>\n",
       "      <td>20.200000</td>\n",
       "      <td>396.225000</td>\n",
       "      <td>16.955000</td>\n",
       "      <td>25.000000</td>\n",
       "    </tr>\n",
       "    <tr>\n",
       "      <th>max</th>\n",
       "      <td>88.976200</td>\n",
       "      <td>100.000000</td>\n",
       "      <td>27.740000</td>\n",
       "      <td>1.000000</td>\n",
       "      <td>0.871000</td>\n",
       "      <td>8.780000</td>\n",
       "      <td>100.000000</td>\n",
       "      <td>12.126500</td>\n",
       "      <td>24.000000</td>\n",
       "      <td>711.000000</td>\n",
       "      <td>22.000000</td>\n",
       "      <td>396.900000</td>\n",
       "      <td>37.970000</td>\n",
       "      <td>50.000000</td>\n",
       "    </tr>\n",
       "  </tbody>\n",
       "</table>\n",
       "</div>"
      ],
      "text/plain": [
       "             CRIM          ZN       INDUS        CHAS         NOX          RM  \\\n",
       "count  506.000000  506.000000  506.000000  506.000000  506.000000  506.000000   \n",
       "mean     3.613524   11.363636   11.136779    0.069170    0.554695    6.284634   \n",
       "std      8.601545   23.322453    6.860353    0.253994    0.115878    0.702617   \n",
       "min      0.006320    0.000000    0.460000    0.000000    0.385000    3.561000   \n",
       "25%      0.082045    0.000000    5.190000    0.000000    0.449000    5.885500   \n",
       "50%      0.256510    0.000000    9.690000    0.000000    0.538000    6.208500   \n",
       "75%      3.677083   12.500000   18.100000    0.000000    0.624000    6.623500   \n",
       "max     88.976200  100.000000   27.740000    1.000000    0.871000    8.780000   \n",
       "\n",
       "              AGE         DIS         RAD         TAX     PTRATIO           B  \\\n",
       "count  506.000000  506.000000  506.000000  506.000000  506.000000  506.000000   \n",
       "mean    68.574901    3.795043    9.549407  408.237154   18.455534  356.674032   \n",
       "std     28.148861    2.105710    8.707259  168.537116    2.164946   91.294864   \n",
       "min      2.900000    1.129600    1.000000  187.000000   12.600000    0.320000   \n",
       "25%     45.025000    2.100175    4.000000  279.000000   17.400000  375.377500   \n",
       "50%     77.500000    3.207450    5.000000  330.000000   19.050000  391.440000   \n",
       "75%     94.075000    5.188425   24.000000  666.000000   20.200000  396.225000   \n",
       "max    100.000000   12.126500   24.000000  711.000000   22.000000  396.900000   \n",
       "\n",
       "            LSTAT      Target  \n",
       "count  506.000000  506.000000  \n",
       "mean    12.653063   22.532806  \n",
       "std      7.141062    9.197104  \n",
       "min      1.730000    5.000000  \n",
       "25%      6.950000   17.025000  \n",
       "50%     11.360000   21.200000  \n",
       "75%     16.955000   25.000000  \n",
       "max     37.970000   50.000000  "
      ]
     },
     "execution_count": 8,
     "metadata": {},
     "output_type": "execute_result"
    }
   ],
   "source": [
    "#Basic data description\n",
    "df.describe()"
   ]
  },
  {
   "cell_type": "markdown",
   "metadata": {},
   "source": [
    "### Observations from above dataset\n",
    "#### 1)There are no missing values\n",
    "#### 2)There is lot of variation in range of features"
   ]
  },
  {
   "cell_type": "code",
   "execution_count": 9,
   "metadata": {},
   "outputs": [
    {
     "data": {
      "text/plain": [
       "CRIM       float64\n",
       "ZN         float64\n",
       "INDUS      float64\n",
       "CHAS       float64\n",
       "NOX        float64\n",
       "RM         float64\n",
       "AGE        float64\n",
       "DIS        float64\n",
       "RAD        float64\n",
       "TAX        float64\n",
       "PTRATIO    float64\n",
       "B          float64\n",
       "LSTAT      float64\n",
       "Target     float64\n",
       "dtype: object"
      ]
     },
     "execution_count": 9,
     "metadata": {},
     "output_type": "execute_result"
    }
   ],
   "source": [
    "#datatype of each column\n",
    "df.dtypes"
   ]
  },
  {
   "cell_type": "code",
   "execution_count": 10,
   "metadata": {},
   "outputs": [
    {
     "data": {
      "text/plain": [
       "\".. _boston_dataset:\\n\\nBoston house prices dataset\\n---------------------------\\n\\n**Data Set Characteristics:**  \\n\\n    :Number of Instances: 506 \\n\\n    :Number of Attributes: 13 numeric/categorical predictive. Median Value (attribute 14) is usually the target.\\n\\n    :Attribute Information (in order):\\n        - CRIM     per capita crime rate by town\\n        - ZN       proportion of residential land zoned for lots over 25,000 sq.ft.\\n        - INDUS    proportion of non-retail business acres per town\\n        - CHAS     Charles River dummy variable (= 1 if tract bounds river; 0 otherwise)\\n        - NOX      nitric oxides concentration (parts per 10 million)\\n        - RM       average number of rooms per dwelling\\n        - AGE      proportion of owner-occupied units built prior to 1940\\n        - DIS      weighted distances to five Boston employment centres\\n        - RAD      index of accessibility to radial highways\\n        - TAX      full-value property-tax rate per $10,000\\n        - PTRATIO  pupil-teacher ratio by town\\n        - B        1000(Bk - 0.63)^2 where Bk is the proportion of blacks by town\\n        - LSTAT    % lower status of the population\\n        - MEDV     Median value of owner-occupied homes in $1000's\\n\\n    :Missing Attribute Values: None\\n\\n    :Creator: Harrison, D. and Rubinfeld, D.L.\\n\\nThis is a copy of UCI ML housing dataset.\\nhttps://archive.ics.uci.edu/ml/machine-learning-databases/housing/\\n\\n\\nThis dataset was taken from the StatLib library which is maintained at Carnegie Mellon University.\\n\\nThe Boston house-price data of Harrison, D. and Rubinfeld, D.L. 'Hedonic\\nprices and the demand for clean air', J. Environ. Economics & Management,\\nvol.5, 81-102, 1978.   Used in Belsley, Kuh & Welsch, 'Regression diagnostics\\n...', Wiley, 1980.   N.B. Various transformations are used in the table on\\npages 244-261 of the latter.\\n\\nThe Boston house-price data has been used in many machine learning papers that address regression\\nproblems.   \\n     \\n.. topic:: References\\n\\n   - Belsley, Kuh & Welsch, 'Regression diagnostics: Identifying Influential Data and Sources of Collinearity', Wiley, 1980. 244-261.\\n   - Quinlan,R. (1993). Combining Instance-Based and Model-Based Learning. In Proceedings on the Tenth International Conference of Machine Learning, 236-243, University of Massachusetts, Amherst. Morgan Kaufmann.\\n\""
      ]
     },
     "execution_count": 10,
     "metadata": {},
     "output_type": "execute_result"
    }
   ],
   "source": [
    "# About the dataset\n",
    "boston.DESCR"
   ]
  },
  {
   "cell_type": "code",
   "execution_count": 102,
   "metadata": {},
   "outputs": [],
   "source": [
    "# a=ProfileReport(df)\n",
    "# a.to_widgets()"
   ]
  },
  {
   "cell_type": "code",
   "execution_count": 12,
   "metadata": {},
   "outputs": [
    {
     "data": {
      "text/html": [
       "<style  type=\"text/css\" >\n",
       "#T_7fd07766_f041_11ec_8585_a171df5ca128row0_col0,#T_7fd07766_f041_11ec_8585_a171df5ca128row1_col1,#T_7fd07766_f041_11ec_8585_a171df5ca128row2_col2,#T_7fd07766_f041_11ec_8585_a171df5ca128row3_col3,#T_7fd07766_f041_11ec_8585_a171df5ca128row4_col4,#T_7fd07766_f041_11ec_8585_a171df5ca128row5_col5,#T_7fd07766_f041_11ec_8585_a171df5ca128row6_col6,#T_7fd07766_f041_11ec_8585_a171df5ca128row7_col7,#T_7fd07766_f041_11ec_8585_a171df5ca128row8_col8,#T_7fd07766_f041_11ec_8585_a171df5ca128row9_col9,#T_7fd07766_f041_11ec_8585_a171df5ca128row10_col10,#T_7fd07766_f041_11ec_8585_a171df5ca128row11_col11,#T_7fd07766_f041_11ec_8585_a171df5ca128row12_col12,#T_7fd07766_f041_11ec_8585_a171df5ca128row13_col13{\n",
       "            background-color:  #b40426;\n",
       "            color:  #f1f1f1;\n",
       "        }#T_7fd07766_f041_11ec_8585_a171df5ca128row0_col1{\n",
       "            background-color:  #88abfd;\n",
       "            color:  #000000;\n",
       "        }#T_7fd07766_f041_11ec_8585_a171df5ca128row0_col2{\n",
       "            background-color:  #f7bca1;\n",
       "            color:  #000000;\n",
       "        }#T_7fd07766_f041_11ec_8585_a171df5ca128row0_col3{\n",
       "            background-color:  #4b64d5;\n",
       "            color:  #f1f1f1;\n",
       "        }#T_7fd07766_f041_11ec_8585_a171df5ca128row0_col4{\n",
       "            background-color:  #f7b599;\n",
       "            color:  #000000;\n",
       "        }#T_7fd07766_f041_11ec_8585_a171df5ca128row0_col5{\n",
       "            background-color:  #8badfd;\n",
       "            color:  #000000;\n",
       "        }#T_7fd07766_f041_11ec_8585_a171df5ca128row0_col6,#T_7fd07766_f041_11ec_8585_a171df5ca128row1_col13{\n",
       "            background-color:  #f5c2aa;\n",
       "            color:  #000000;\n",
       "        }#T_7fd07766_f041_11ec_8585_a171df5ca128row0_col7,#T_7fd07766_f041_11ec_8585_a171df5ca128row11_col4,#T_7fd07766_f041_11ec_8585_a171df5ca128row11_col10{\n",
       "            background-color:  #82a6fb;\n",
       "            color:  #000000;\n",
       "        }#T_7fd07766_f041_11ec_8585_a171df5ca128row0_col8{\n",
       "            background-color:  #f49a7b;\n",
       "            color:  #000000;\n",
       "        }#T_7fd07766_f041_11ec_8585_a171df5ca128row0_col9,#T_7fd07766_f041_11ec_8585_a171df5ca128row2_col8,#T_7fd07766_f041_11ec_8585_a171df5ca128row8_col0{\n",
       "            background-color:  #f6a283;\n",
       "            color:  #000000;\n",
       "        }#T_7fd07766_f041_11ec_8585_a171df5ca128row0_col10{\n",
       "            background-color:  #e4d9d2;\n",
       "            color:  #000000;\n",
       "        }#T_7fd07766_f041_11ec_8585_a171df5ca128row0_col11,#T_7fd07766_f041_11ec_8585_a171df5ca128row13_col9{\n",
       "            background-color:  #465ecf;\n",
       "            color:  #f1f1f1;\n",
       "        }#T_7fd07766_f041_11ec_8585_a171df5ca128row0_col12{\n",
       "            background-color:  #f7b194;\n",
       "            color:  #000000;\n",
       "        }#T_7fd07766_f041_11ec_8585_a171df5ca128row0_col13,#T_7fd07766_f041_11ec_8585_a171df5ca128row9_col5{\n",
       "            background-color:  #7b9ff9;\n",
       "            color:  #000000;\n",
       "        }#T_7fd07766_f041_11ec_8585_a171df5ca128row1_col0{\n",
       "            background-color:  #6485ec;\n",
       "            color:  #000000;\n",
       "        }#T_7fd07766_f041_11ec_8585_a171df5ca128row1_col2,#T_7fd07766_f041_11ec_8585_a171df5ca128row1_col6,#T_7fd07766_f041_11ec_8585_a171df5ca128row8_col3{\n",
       "            background-color:  #5a78e4;\n",
       "            color:  #000000;\n",
       "        }#T_7fd07766_f041_11ec_8585_a171df5ca128row1_col3{\n",
       "            background-color:  #4f69d9;\n",
       "            color:  #000000;\n",
       "        }#T_7fd07766_f041_11ec_8585_a171df5ca128row1_col4,#T_7fd07766_f041_11ec_8585_a171df5ca128row1_col9{\n",
       "            background-color:  #6788ee;\n",
       "            color:  #000000;\n",
       "        }#T_7fd07766_f041_11ec_8585_a171df5ca128row1_col5,#T_7fd07766_f041_11ec_8585_a171df5ca128row2_col0{\n",
       "            background-color:  #edd1c2;\n",
       "            color:  #000000;\n",
       "        }#T_7fd07766_f041_11ec_8585_a171df5ca128row1_col7,#T_7fd07766_f041_11ec_8585_a171df5ca128row9_col4,#T_7fd07766_f041_11ec_8585_a171df5ca128row13_col5{\n",
       "            background-color:  #ec7f63;\n",
       "            color:  #000000;\n",
       "        }#T_7fd07766_f041_11ec_8585_a171df5ca128row1_col8,#T_7fd07766_f041_11ec_8585_a171df5ca128row5_col0{\n",
       "            background-color:  #6180e9;\n",
       "            color:  #000000;\n",
       "        }#T_7fd07766_f041_11ec_8585_a171df5ca128row1_col10,#T_7fd07766_f041_11ec_8585_a171df5ca128row9_col3,#T_7fd07766_f041_11ec_8585_a171df5ca128row13_col8{\n",
       "            background-color:  #516ddb;\n",
       "            color:  #000000;\n",
       "        }#T_7fd07766_f041_11ec_8585_a171df5ca128row1_col11{\n",
       "            background-color:  #c9d7f0;\n",
       "            color:  #000000;\n",
       "        }#T_7fd07766_f041_11ec_8585_a171df5ca128row1_col12,#T_7fd07766_f041_11ec_8585_a171df5ca128row5_col2,#T_7fd07766_f041_11ec_8585_a171df5ca128row6_col3,#T_7fd07766_f041_11ec_8585_a171df5ca128row10_col11{\n",
       "            background-color:  #7699f6;\n",
       "            color:  #000000;\n",
       "        }#T_7fd07766_f041_11ec_8585_a171df5ca128row2_col1,#T_7fd07766_f041_11ec_8585_a171df5ca128row7_col3{\n",
       "            background-color:  #4055c8;\n",
       "            color:  #f1f1f1;\n",
       "        }#T_7fd07766_f041_11ec_8585_a171df5ca128row2_col3,#T_7fd07766_f041_11ec_8585_a171df5ca128row8_col1{\n",
       "            background-color:  #6f92f3;\n",
       "            color:  #000000;\n",
       "        }#T_7fd07766_f041_11ec_8585_a171df5ca128row2_col4{\n",
       "            background-color:  #e0654f;\n",
       "            color:  #000000;\n",
       "        }#T_7fd07766_f041_11ec_8585_a171df5ca128row2_col5,#T_7fd07766_f041_11ec_8585_a171df5ca128row7_col12{\n",
       "            background-color:  #6687ed;\n",
       "            color:  #000000;\n",
       "        }#T_7fd07766_f041_11ec_8585_a171df5ca128row2_col6{\n",
       "            background-color:  #ee8669;\n",
       "            color:  #000000;\n",
       "        }#T_7fd07766_f041_11ec_8585_a171df5ca128row2_col7,#T_7fd07766_f041_11ec_8585_a171df5ca128row4_col1,#T_7fd07766_f041_11ec_8585_a171df5ca128row11_col8{\n",
       "            background-color:  #445acc;\n",
       "            color:  #f1f1f1;\n",
       "        }#T_7fd07766_f041_11ec_8585_a171df5ca128row2_col9{\n",
       "            background-color:  #ea7b60;\n",
       "            color:  #000000;\n",
       "        }#T_7fd07766_f041_11ec_8585_a171df5ca128row2_col10,#T_7fd07766_f041_11ec_8585_a171df5ca128row13_col1{\n",
       "            background-color:  #f1cdba;\n",
       "            color:  #000000;\n",
       "        }#T_7fd07766_f041_11ec_8585_a171df5ca128row2_col11,#T_7fd07766_f041_11ec_8585_a171df5ca128row11_col9,#T_7fd07766_f041_11ec_8585_a171df5ca128row12_col3{\n",
       "            background-color:  #4c66d6;\n",
       "            color:  #000000;\n",
       "        }#T_7fd07766_f041_11ec_8585_a171df5ca128row2_col12,#T_7fd07766_f041_11ec_8585_a171df5ca128row6_col12,#T_7fd07766_f041_11ec_8585_a171df5ca128row12_col6{\n",
       "            background-color:  #f29072;\n",
       "            color:  #000000;\n",
       "        }#T_7fd07766_f041_11ec_8585_a171df5ca128row2_col13{\n",
       "            background-color:  #688aef;\n",
       "            color:  #000000;\n",
       "        }#T_7fd07766_f041_11ec_8585_a171df5ca128row3_col0{\n",
       "            background-color:  #89acfd;\n",
       "            color:  #000000;\n",
       "        }#T_7fd07766_f041_11ec_8585_a171df5ca128row3_col1{\n",
       "            background-color:  #aac7fd;\n",
       "            color:  #000000;\n",
       "        }#T_7fd07766_f041_11ec_8585_a171df5ca128row3_col2{\n",
       "            background-color:  #cfdaea;\n",
       "            color:  #000000;\n",
       "        }#T_7fd07766_f041_11ec_8585_a171df5ca128row3_col4{\n",
       "            background-color:  #d9dce1;\n",
       "            color:  #000000;\n",
       "        }#T_7fd07766_f041_11ec_8585_a171df5ca128row3_col5{\n",
       "            background-color:  #cbd8ee;\n",
       "            color:  #000000;\n",
       "        }#T_7fd07766_f041_11ec_8585_a171df5ca128row3_col6{\n",
       "            background-color:  #d7dce3;\n",
       "            color:  #000000;\n",
       "        }#T_7fd07766_f041_11ec_8585_a171df5ca128row3_col7{\n",
       "            background-color:  #b9d0f9;\n",
       "            color:  #000000;\n",
       "        }#T_7fd07766_f041_11ec_8585_a171df5ca128row3_col8,#T_7fd07766_f041_11ec_8585_a171df5ca128row3_col9{\n",
       "            background-color:  #a7c5fe;\n",
       "            color:  #000000;\n",
       "        }#T_7fd07766_f041_11ec_8585_a171df5ca128row3_col10{\n",
       "            background-color:  #8fb1fe;\n",
       "            color:  #000000;\n",
       "        }#T_7fd07766_f041_11ec_8585_a171df5ca128row3_col11{\n",
       "            background-color:  #adc9fd;\n",
       "            color:  #000000;\n",
       "        }#T_7fd07766_f041_11ec_8585_a171df5ca128row3_col12{\n",
       "            background-color:  #bed2f6;\n",
       "            color:  #000000;\n",
       "        }#T_7fd07766_f041_11ec_8585_a171df5ca128row3_col13{\n",
       "            background-color:  #e3d9d3;\n",
       "            color:  #000000;\n",
       "        }#T_7fd07766_f041_11ec_8585_a171df5ca128row4_col0,#T_7fd07766_f041_11ec_8585_a171df5ca128row12_col10{\n",
       "            background-color:  #efcebd;\n",
       "            color:  #000000;\n",
       "        }#T_7fd07766_f041_11ec_8585_a171df5ca128row4_col2{\n",
       "            background-color:  #e16751;\n",
       "            color:  #000000;\n",
       "        }#T_7fd07766_f041_11ec_8585_a171df5ca128row4_col3,#T_7fd07766_f041_11ec_8585_a171df5ca128row5_col3,#T_7fd07766_f041_11ec_8585_a171df5ca128row5_col8{\n",
       "            background-color:  #779af7;\n",
       "            color:  #000000;\n",
       "        }#T_7fd07766_f041_11ec_8585_a171df5ca128row4_col5,#T_7fd07766_f041_11ec_8585_a171df5ca128row13_col4{\n",
       "            background-color:  #799cf8;\n",
       "            color:  #000000;\n",
       "        }#T_7fd07766_f041_11ec_8585_a171df5ca128row4_col6{\n",
       "            background-color:  #e46e56;\n",
       "            color:  #000000;\n",
       "        }#T_7fd07766_f041_11ec_8585_a171df5ca128row4_col7,#T_7fd07766_f041_11ec_8585_a171df5ca128row6_col1,#T_7fd07766_f041_11ec_8585_a171df5ca128row7_col2,#T_7fd07766_f041_11ec_8585_a171df5ca128row7_col4,#T_7fd07766_f041_11ec_8585_a171df5ca128row7_col6,#T_7fd07766_f041_11ec_8585_a171df5ca128row7_col8,#T_7fd07766_f041_11ec_8585_a171df5ca128row7_col9,#T_7fd07766_f041_11ec_8585_a171df5ca128row8_col11,#T_7fd07766_f041_11ec_8585_a171df5ca128row9_col11,#T_7fd07766_f041_11ec_8585_a171df5ca128row10_col3,#T_7fd07766_f041_11ec_8585_a171df5ca128row11_col0,#T_7fd07766_f041_11ec_8585_a171df5ca128row12_col5,#T_7fd07766_f041_11ec_8585_a171df5ca128row12_col13,#T_7fd07766_f041_11ec_8585_a171df5ca128row13_col0,#T_7fd07766_f041_11ec_8585_a171df5ca128row13_col10,#T_7fd07766_f041_11ec_8585_a171df5ca128row13_col12{\n",
       "            background-color:  #3b4cc0;\n",
       "            color:  #f1f1f1;\n",
       "        }#T_7fd07766_f041_11ec_8585_a171df5ca128row4_col8{\n",
       "            background-color:  #f59d7e;\n",
       "            color:  #000000;\n",
       "        }#T_7fd07766_f041_11ec_8585_a171df5ca128row4_col9{\n",
       "            background-color:  #f08b6e;\n",
       "            color:  #000000;\n",
       "        }#T_7fd07766_f041_11ec_8585_a171df5ca128row4_col10{\n",
       "            background-color:  #d3dbe7;\n",
       "            color:  #000000;\n",
       "        }#T_7fd07766_f041_11ec_8585_a171df5ca128row4_col11{\n",
       "            background-color:  #485fd1;\n",
       "            color:  #f1f1f1;\n",
       "        }#T_7fd07766_f041_11ec_8585_a171df5ca128row4_col12,#T_7fd07766_f041_11ec_8585_a171df5ca128row8_col2{\n",
       "            background-color:  #f39475;\n",
       "            color:  #000000;\n",
       "        }#T_7fd07766_f041_11ec_8585_a171df5ca128row4_col13{\n",
       "            background-color:  #7396f5;\n",
       "            color:  #000000;\n",
       "        }#T_7fd07766_f041_11ec_8585_a171df5ca128row5_col1{\n",
       "            background-color:  #ebd3c6;\n",
       "            color:  #000000;\n",
       "        }#T_7fd07766_f041_11ec_8585_a171df5ca128row5_col4,#T_7fd07766_f041_11ec_8585_a171df5ca128row13_col3{\n",
       "            background-color:  #92b4fe;\n",
       "            color:  #000000;\n",
       "        }#T_7fd07766_f041_11ec_8585_a171df5ca128row5_col6{\n",
       "            background-color:  #9bbcff;\n",
       "            color:  #000000;\n",
       "        }#T_7fd07766_f041_11ec_8585_a171df5ca128row5_col7{\n",
       "            background-color:  #ead5c9;\n",
       "            color:  #000000;\n",
       "        }#T_7fd07766_f041_11ec_8585_a171df5ca128row5_col9,#T_7fd07766_f041_11ec_8585_a171df5ca128row10_col5{\n",
       "            background-color:  #6c8ff1;\n",
       "            color:  #000000;\n",
       "        }#T_7fd07766_f041_11ec_8585_a171df5ca128row5_col10,#T_7fd07766_f041_11ec_8585_a171df5ca128row12_col1{\n",
       "            background-color:  #5977e3;\n",
       "            color:  #000000;\n",
       "        }#T_7fd07766_f041_11ec_8585_a171df5ca128row5_col11{\n",
       "            background-color:  #bfd3f6;\n",
       "            color:  #000000;\n",
       "        }#T_7fd07766_f041_11ec_8585_a171df5ca128row5_col12{\n",
       "            background-color:  #506bda;\n",
       "            color:  #000000;\n",
       "        }#T_7fd07766_f041_11ec_8585_a171df5ca128row5_col13{\n",
       "            background-color:  #e9785d;\n",
       "            color:  #000000;\n",
       "        }#T_7fd07766_f041_11ec_8585_a171df5ca128row6_col0{\n",
       "            background-color:  #e5d8d1;\n",
       "            color:  #000000;\n",
       "        }#T_7fd07766_f041_11ec_8585_a171df5ca128row6_col2{\n",
       "            background-color:  #ef886b;\n",
       "            color:  #000000;\n",
       "        }#T_7fd07766_f041_11ec_8585_a171df5ca128row6_col4{\n",
       "            background-color:  #e36c55;\n",
       "            color:  #000000;\n",
       "        }#T_7fd07766_f041_11ec_8585_a171df5ca128row6_col5{\n",
       "            background-color:  #86a9fc;\n",
       "            color:  #000000;\n",
       "        }#T_7fd07766_f041_11ec_8585_a171df5ca128row6_col7{\n",
       "            background-color:  #3e51c5;\n",
       "            color:  #f1f1f1;\n",
       "        }#T_7fd07766_f041_11ec_8585_a171df5ca128row6_col8{\n",
       "            background-color:  #f5c1a9;\n",
       "            color:  #000000;\n",
       "        }#T_7fd07766_f041_11ec_8585_a171df5ca128row6_col9{\n",
       "            background-color:  #f7b497;\n",
       "            color:  #000000;\n",
       "        }#T_7fd07766_f041_11ec_8585_a171df5ca128row6_col10,#T_7fd07766_f041_11ec_8585_a171df5ca128row7_col11{\n",
       "            background-color:  #dfdbd9;\n",
       "            color:  #000000;\n",
       "        }#T_7fd07766_f041_11ec_8585_a171df5ca128row6_col11{\n",
       "            background-color:  #5f7fe8;\n",
       "            color:  #000000;\n",
       "        }#T_7fd07766_f041_11ec_8585_a171df5ca128row6_col13{\n",
       "            background-color:  #7ea1fa;\n",
       "            color:  #000000;\n",
       "        }#T_7fd07766_f041_11ec_8585_a171df5ca128row7_col0{\n",
       "            background-color:  #3c4ec2;\n",
       "            color:  #f1f1f1;\n",
       "        }#T_7fd07766_f041_11ec_8585_a171df5ca128row7_col1{\n",
       "            background-color:  #f08a6c;\n",
       "            color:  #000000;\n",
       "        }#T_7fd07766_f041_11ec_8585_a171df5ca128row7_col5{\n",
       "            background-color:  #dedcdb;\n",
       "            color:  #000000;\n",
       "        }#T_7fd07766_f041_11ec_8585_a171df5ca128row7_col10{\n",
       "            background-color:  #7597f6;\n",
       "            color:  #000000;\n",
       "        }#T_7fd07766_f041_11ec_8585_a171df5ca128row7_col13{\n",
       "            background-color:  #edd2c3;\n",
       "            color:  #000000;\n",
       "        }#T_7fd07766_f041_11ec_8585_a171df5ca128row8_col4{\n",
       "            background-color:  #f18d6f;\n",
       "            color:  #000000;\n",
       "        }#T_7fd07766_f041_11ec_8585_a171df5ca128row8_col5{\n",
       "            background-color:  #8db0fe;\n",
       "            color:  #000000;\n",
       "        }#T_7fd07766_f041_11ec_8585_a171df5ca128row8_col6{\n",
       "            background-color:  #f7b093;\n",
       "            color:  #000000;\n",
       "        }#T_7fd07766_f041_11ec_8585_a171df5ca128row8_col7,#T_7fd07766_f041_11ec_8585_a171df5ca128row9_col13,#T_7fd07766_f041_11ec_8585_a171df5ca128row12_col7{\n",
       "            background-color:  #6b8df0;\n",
       "            color:  #000000;\n",
       "        }#T_7fd07766_f041_11ec_8585_a171df5ca128row8_col9{\n",
       "            background-color:  #c83836;\n",
       "            color:  #f1f1f1;\n",
       "        }#T_7fd07766_f041_11ec_8585_a171df5ca128row8_col10{\n",
       "            background-color:  #f6bea4;\n",
       "            color:  #000000;\n",
       "        }#T_7fd07766_f041_11ec_8585_a171df5ca128row8_col12{\n",
       "            background-color:  #f7aa8c;\n",
       "            color:  #000000;\n",
       "        }#T_7fd07766_f041_11ec_8585_a171df5ca128row8_col13,#T_7fd07766_f041_11ec_8585_a171df5ca128row11_col2{\n",
       "            background-color:  #7da0f9;\n",
       "            color:  #000000;\n",
       "        }#T_7fd07766_f041_11ec_8585_a171df5ca128row9_col0,#T_7fd07766_f041_11ec_8585_a171df5ca128row12_col9{\n",
       "            background-color:  #f7ac8e;\n",
       "            color:  #000000;\n",
       "        }#T_7fd07766_f041_11ec_8585_a171df5ca128row9_col1{\n",
       "            background-color:  #6e90f2;\n",
       "            color:  #000000;\n",
       "        }#T_7fd07766_f041_11ec_8585_a171df5ca128row9_col2{\n",
       "            background-color:  #e67259;\n",
       "            color:  #000000;\n",
       "        }#T_7fd07766_f041_11ec_8585_a171df5ca128row9_col6{\n",
       "            background-color:  #f7a688;\n",
       "            color:  #000000;\n",
       "        }#T_7fd07766_f041_11ec_8585_a171df5ca128row9_col7,#T_7fd07766_f041_11ec_8585_a171df5ca128row10_col13,#T_7fd07766_f041_11ec_8585_a171df5ca128row13_col2{\n",
       "            background-color:  #6384eb;\n",
       "            color:  #000000;\n",
       "        }#T_7fd07766_f041_11ec_8585_a171df5ca128row9_col8{\n",
       "            background-color:  #ca3b37;\n",
       "            color:  #f1f1f1;\n",
       "        }#T_7fd07766_f041_11ec_8585_a171df5ca128row9_col10,#T_7fd07766_f041_11ec_8585_a171df5ca128row10_col8{\n",
       "            background-color:  #f6bfa6;\n",
       "            color:  #000000;\n",
       "        }#T_7fd07766_f041_11ec_8585_a171df5ca128row9_col12{\n",
       "            background-color:  #f59f80;\n",
       "            color:  #000000;\n",
       "        }#T_7fd07766_f041_11ec_8585_a171df5ca128row10_col0{\n",
       "            background-color:  #dadce0;\n",
       "            color:  #000000;\n",
       "        }#T_7fd07766_f041_11ec_8585_a171df5ca128row10_col1{\n",
       "            background-color:  #5e7de7;\n",
       "            color:  #000000;\n",
       "        }#T_7fd07766_f041_11ec_8585_a171df5ca128row10_col2,#T_7fd07766_f041_11ec_8585_a171df5ca128row10_col12{\n",
       "            background-color:  #f5c0a7;\n",
       "            color:  #000000;\n",
       "        }#T_7fd07766_f041_11ec_8585_a171df5ca128row10_col4{\n",
       "            background-color:  #e7d7ce;\n",
       "            color:  #000000;\n",
       "        }#T_7fd07766_f041_11ec_8585_a171df5ca128row10_col6,#T_7fd07766_f041_11ec_8585_a171df5ca128row13_col7{\n",
       "            background-color:  #eed0c0;\n",
       "            color:  #000000;\n",
       "        }#T_7fd07766_f041_11ec_8585_a171df5ca128row10_col7{\n",
       "            background-color:  #9fbfff;\n",
       "            color:  #000000;\n",
       "        }#T_7fd07766_f041_11ec_8585_a171df5ca128row10_col9{\n",
       "            background-color:  #f6bda2;\n",
       "            color:  #000000;\n",
       "        }#T_7fd07766_f041_11ec_8585_a171df5ca128row11_col1{\n",
       "            background-color:  #d6dce4;\n",
       "            color:  #000000;\n",
       "        }#T_7fd07766_f041_11ec_8585_a171df5ca128row11_col3{\n",
       "            background-color:  #6a8bef;\n",
       "            color:  #000000;\n",
       "        }#T_7fd07766_f041_11ec_8585_a171df5ca128row11_col5{\n",
       "            background-color:  #d2dbe8;\n",
       "            color:  #000000;\n",
       "        }#T_7fd07766_f041_11ec_8585_a171df5ca128row11_col6{\n",
       "            background-color:  #94b6ff;\n",
       "            color:  #000000;\n",
       "        }#T_7fd07766_f041_11ec_8585_a171df5ca128row11_col7{\n",
       "            background-color:  #f2cbb7;\n",
       "            color:  #000000;\n",
       "        }#T_7fd07766_f041_11ec_8585_a171df5ca128row11_col12,#T_7fd07766_f041_11ec_8585_a171df5ca128row13_col6{\n",
       "            background-color:  #80a3fa;\n",
       "            color:  #000000;\n",
       "        }#T_7fd07766_f041_11ec_8585_a171df5ca128row11_col13{\n",
       "            background-color:  #f3c7b1;\n",
       "            color:  #000000;\n",
       "        }#T_7fd07766_f041_11ec_8585_a171df5ca128row12_col0{\n",
       "            background-color:  #f2c9b4;\n",
       "            color:  #000000;\n",
       "        }#T_7fd07766_f041_11ec_8585_a171df5ca128row12_col2,#T_7fd07766_f041_11ec_8585_a171df5ca128row12_col4{\n",
       "            background-color:  #f29274;\n",
       "            color:  #000000;\n",
       "        }#T_7fd07766_f041_11ec_8585_a171df5ca128row12_col8{\n",
       "            background-color:  #f7ba9f;\n",
       "            color:  #000000;\n",
       "        }#T_7fd07766_f041_11ec_8585_a171df5ca128row12_col11{\n",
       "            background-color:  #4a63d3;\n",
       "            color:  #f1f1f1;\n",
       "        }#T_7fd07766_f041_11ec_8585_a171df5ca128row13_col11{\n",
       "            background-color:  #e6d7cf;\n",
       "            color:  #000000;\n",
       "        }</style><table id=\"T_7fd07766_f041_11ec_8585_a171df5ca128\" ><thead>    <tr>        <th class=\"blank level0\" ></th>        <th class=\"col_heading level0 col0\" >CRIM</th>        <th class=\"col_heading level0 col1\" >ZN</th>        <th class=\"col_heading level0 col2\" >INDUS</th>        <th class=\"col_heading level0 col3\" >CHAS</th>        <th class=\"col_heading level0 col4\" >NOX</th>        <th class=\"col_heading level0 col5\" >RM</th>        <th class=\"col_heading level0 col6\" >AGE</th>        <th class=\"col_heading level0 col7\" >DIS</th>        <th class=\"col_heading level0 col8\" >RAD</th>        <th class=\"col_heading level0 col9\" >TAX</th>        <th class=\"col_heading level0 col10\" >PTRATIO</th>        <th class=\"col_heading level0 col11\" >B</th>        <th class=\"col_heading level0 col12\" >LSTAT</th>        <th class=\"col_heading level0 col13\" >Target</th>    </tr></thead><tbody>\n",
       "                <tr>\n",
       "                        <th id=\"T_7fd07766_f041_11ec_8585_a171df5ca128level0_row0\" class=\"row_heading level0 row0\" >CRIM</th>\n",
       "                        <td id=\"T_7fd07766_f041_11ec_8585_a171df5ca128row0_col0\" class=\"data row0 col0\" >1.000000</td>\n",
       "                        <td id=\"T_7fd07766_f041_11ec_8585_a171df5ca128row0_col1\" class=\"data row0 col1\" >-0.200469</td>\n",
       "                        <td id=\"T_7fd07766_f041_11ec_8585_a171df5ca128row0_col2\" class=\"data row0 col2\" >0.406583</td>\n",
       "                        <td id=\"T_7fd07766_f041_11ec_8585_a171df5ca128row0_col3\" class=\"data row0 col3\" >-0.055892</td>\n",
       "                        <td id=\"T_7fd07766_f041_11ec_8585_a171df5ca128row0_col4\" class=\"data row0 col4\" >0.420972</td>\n",
       "                        <td id=\"T_7fd07766_f041_11ec_8585_a171df5ca128row0_col5\" class=\"data row0 col5\" >-0.219247</td>\n",
       "                        <td id=\"T_7fd07766_f041_11ec_8585_a171df5ca128row0_col6\" class=\"data row0 col6\" >0.352734</td>\n",
       "                        <td id=\"T_7fd07766_f041_11ec_8585_a171df5ca128row0_col7\" class=\"data row0 col7\" >-0.379670</td>\n",
       "                        <td id=\"T_7fd07766_f041_11ec_8585_a171df5ca128row0_col8\" class=\"data row0 col8\" >0.625505</td>\n",
       "                        <td id=\"T_7fd07766_f041_11ec_8585_a171df5ca128row0_col9\" class=\"data row0 col9\" >0.582764</td>\n",
       "                        <td id=\"T_7fd07766_f041_11ec_8585_a171df5ca128row0_col10\" class=\"data row0 col10\" >0.289946</td>\n",
       "                        <td id=\"T_7fd07766_f041_11ec_8585_a171df5ca128row0_col11\" class=\"data row0 col11\" >-0.385064</td>\n",
       "                        <td id=\"T_7fd07766_f041_11ec_8585_a171df5ca128row0_col12\" class=\"data row0 col12\" >0.455621</td>\n",
       "                        <td id=\"T_7fd07766_f041_11ec_8585_a171df5ca128row0_col13\" class=\"data row0 col13\" >-0.388305</td>\n",
       "            </tr>\n",
       "            <tr>\n",
       "                        <th id=\"T_7fd07766_f041_11ec_8585_a171df5ca128level0_row1\" class=\"row_heading level0 row1\" >ZN</th>\n",
       "                        <td id=\"T_7fd07766_f041_11ec_8585_a171df5ca128row1_col0\" class=\"data row1 col0\" >-0.200469</td>\n",
       "                        <td id=\"T_7fd07766_f041_11ec_8585_a171df5ca128row1_col1\" class=\"data row1 col1\" >1.000000</td>\n",
       "                        <td id=\"T_7fd07766_f041_11ec_8585_a171df5ca128row1_col2\" class=\"data row1 col2\" >-0.533828</td>\n",
       "                        <td id=\"T_7fd07766_f041_11ec_8585_a171df5ca128row1_col3\" class=\"data row1 col3\" >-0.042697</td>\n",
       "                        <td id=\"T_7fd07766_f041_11ec_8585_a171df5ca128row1_col4\" class=\"data row1 col4\" >-0.516604</td>\n",
       "                        <td id=\"T_7fd07766_f041_11ec_8585_a171df5ca128row1_col5\" class=\"data row1 col5\" >0.311991</td>\n",
       "                        <td id=\"T_7fd07766_f041_11ec_8585_a171df5ca128row1_col6\" class=\"data row1 col6\" >-0.569537</td>\n",
       "                        <td id=\"T_7fd07766_f041_11ec_8585_a171df5ca128row1_col7\" class=\"data row1 col7\" >0.664408</td>\n",
       "                        <td id=\"T_7fd07766_f041_11ec_8585_a171df5ca128row1_col8\" class=\"data row1 col8\" >-0.311948</td>\n",
       "                        <td id=\"T_7fd07766_f041_11ec_8585_a171df5ca128row1_col9\" class=\"data row1 col9\" >-0.314563</td>\n",
       "                        <td id=\"T_7fd07766_f041_11ec_8585_a171df5ca128row1_col10\" class=\"data row1 col10\" >-0.391679</td>\n",
       "                        <td id=\"T_7fd07766_f041_11ec_8585_a171df5ca128row1_col11\" class=\"data row1 col11\" >0.175520</td>\n",
       "                        <td id=\"T_7fd07766_f041_11ec_8585_a171df5ca128row1_col12\" class=\"data row1 col12\" >-0.412995</td>\n",
       "                        <td id=\"T_7fd07766_f041_11ec_8585_a171df5ca128row1_col13\" class=\"data row1 col13\" >0.360445</td>\n",
       "            </tr>\n",
       "            <tr>\n",
       "                        <th id=\"T_7fd07766_f041_11ec_8585_a171df5ca128level0_row2\" class=\"row_heading level0 row2\" >INDUS</th>\n",
       "                        <td id=\"T_7fd07766_f041_11ec_8585_a171df5ca128row2_col0\" class=\"data row2 col0\" >0.406583</td>\n",
       "                        <td id=\"T_7fd07766_f041_11ec_8585_a171df5ca128row2_col1\" class=\"data row2 col1\" >-0.533828</td>\n",
       "                        <td id=\"T_7fd07766_f041_11ec_8585_a171df5ca128row2_col2\" class=\"data row2 col2\" >1.000000</td>\n",
       "                        <td id=\"T_7fd07766_f041_11ec_8585_a171df5ca128row2_col3\" class=\"data row2 col3\" >0.062938</td>\n",
       "                        <td id=\"T_7fd07766_f041_11ec_8585_a171df5ca128row2_col4\" class=\"data row2 col4\" >0.763651</td>\n",
       "                        <td id=\"T_7fd07766_f041_11ec_8585_a171df5ca128row2_col5\" class=\"data row2 col5\" >-0.391676</td>\n",
       "                        <td id=\"T_7fd07766_f041_11ec_8585_a171df5ca128row2_col6\" class=\"data row2 col6\" >0.644779</td>\n",
       "                        <td id=\"T_7fd07766_f041_11ec_8585_a171df5ca128row2_col7\" class=\"data row2 col7\" >-0.708027</td>\n",
       "                        <td id=\"T_7fd07766_f041_11ec_8585_a171df5ca128row2_col8\" class=\"data row2 col8\" >0.595129</td>\n",
       "                        <td id=\"T_7fd07766_f041_11ec_8585_a171df5ca128row2_col9\" class=\"data row2 col9\" >0.720760</td>\n",
       "                        <td id=\"T_7fd07766_f041_11ec_8585_a171df5ca128row2_col10\" class=\"data row2 col10\" >0.383248</td>\n",
       "                        <td id=\"T_7fd07766_f041_11ec_8585_a171df5ca128row2_col11\" class=\"data row2 col11\" >-0.356977</td>\n",
       "                        <td id=\"T_7fd07766_f041_11ec_8585_a171df5ca128row2_col12\" class=\"data row2 col12\" >0.603800</td>\n",
       "                        <td id=\"T_7fd07766_f041_11ec_8585_a171df5ca128row2_col13\" class=\"data row2 col13\" >-0.483725</td>\n",
       "            </tr>\n",
       "            <tr>\n",
       "                        <th id=\"T_7fd07766_f041_11ec_8585_a171df5ca128level0_row3\" class=\"row_heading level0 row3\" >CHAS</th>\n",
       "                        <td id=\"T_7fd07766_f041_11ec_8585_a171df5ca128row3_col0\" class=\"data row3 col0\" >-0.055892</td>\n",
       "                        <td id=\"T_7fd07766_f041_11ec_8585_a171df5ca128row3_col1\" class=\"data row3 col1\" >-0.042697</td>\n",
       "                        <td id=\"T_7fd07766_f041_11ec_8585_a171df5ca128row3_col2\" class=\"data row3 col2\" >0.062938</td>\n",
       "                        <td id=\"T_7fd07766_f041_11ec_8585_a171df5ca128row3_col3\" class=\"data row3 col3\" >1.000000</td>\n",
       "                        <td id=\"T_7fd07766_f041_11ec_8585_a171df5ca128row3_col4\" class=\"data row3 col4\" >0.091203</td>\n",
       "                        <td id=\"T_7fd07766_f041_11ec_8585_a171df5ca128row3_col5\" class=\"data row3 col5\" >0.091251</td>\n",
       "                        <td id=\"T_7fd07766_f041_11ec_8585_a171df5ca128row3_col6\" class=\"data row3 col6\" >0.086518</td>\n",
       "                        <td id=\"T_7fd07766_f041_11ec_8585_a171df5ca128row3_col7\" class=\"data row3 col7\" >-0.099176</td>\n",
       "                        <td id=\"T_7fd07766_f041_11ec_8585_a171df5ca128row3_col8\" class=\"data row3 col8\" >-0.007368</td>\n",
       "                        <td id=\"T_7fd07766_f041_11ec_8585_a171df5ca128row3_col9\" class=\"data row3 col9\" >-0.035587</td>\n",
       "                        <td id=\"T_7fd07766_f041_11ec_8585_a171df5ca128row3_col10\" class=\"data row3 col10\" >-0.121515</td>\n",
       "                        <td id=\"T_7fd07766_f041_11ec_8585_a171df5ca128row3_col11\" class=\"data row3 col11\" >0.048788</td>\n",
       "                        <td id=\"T_7fd07766_f041_11ec_8585_a171df5ca128row3_col12\" class=\"data row3 col12\" >-0.053929</td>\n",
       "                        <td id=\"T_7fd07766_f041_11ec_8585_a171df5ca128row3_col13\" class=\"data row3 col13\" >0.175260</td>\n",
       "            </tr>\n",
       "            <tr>\n",
       "                        <th id=\"T_7fd07766_f041_11ec_8585_a171df5ca128level0_row4\" class=\"row_heading level0 row4\" >NOX</th>\n",
       "                        <td id=\"T_7fd07766_f041_11ec_8585_a171df5ca128row4_col0\" class=\"data row4 col0\" >0.420972</td>\n",
       "                        <td id=\"T_7fd07766_f041_11ec_8585_a171df5ca128row4_col1\" class=\"data row4 col1\" >-0.516604</td>\n",
       "                        <td id=\"T_7fd07766_f041_11ec_8585_a171df5ca128row4_col2\" class=\"data row4 col2\" >0.763651</td>\n",
       "                        <td id=\"T_7fd07766_f041_11ec_8585_a171df5ca128row4_col3\" class=\"data row4 col3\" >0.091203</td>\n",
       "                        <td id=\"T_7fd07766_f041_11ec_8585_a171df5ca128row4_col4\" class=\"data row4 col4\" >1.000000</td>\n",
       "                        <td id=\"T_7fd07766_f041_11ec_8585_a171df5ca128row4_col5\" class=\"data row4 col5\" >-0.302188</td>\n",
       "                        <td id=\"T_7fd07766_f041_11ec_8585_a171df5ca128row4_col6\" class=\"data row4 col6\" >0.731470</td>\n",
       "                        <td id=\"T_7fd07766_f041_11ec_8585_a171df5ca128row4_col7\" class=\"data row4 col7\" >-0.769230</td>\n",
       "                        <td id=\"T_7fd07766_f041_11ec_8585_a171df5ca128row4_col8\" class=\"data row4 col8\" >0.611441</td>\n",
       "                        <td id=\"T_7fd07766_f041_11ec_8585_a171df5ca128row4_col9\" class=\"data row4 col9\" >0.668023</td>\n",
       "                        <td id=\"T_7fd07766_f041_11ec_8585_a171df5ca128row4_col10\" class=\"data row4 col10\" >0.188933</td>\n",
       "                        <td id=\"T_7fd07766_f041_11ec_8585_a171df5ca128row4_col11\" class=\"data row4 col11\" >-0.380051</td>\n",
       "                        <td id=\"T_7fd07766_f041_11ec_8585_a171df5ca128row4_col12\" class=\"data row4 col12\" >0.590879</td>\n",
       "                        <td id=\"T_7fd07766_f041_11ec_8585_a171df5ca128row4_col13\" class=\"data row4 col13\" >-0.427321</td>\n",
       "            </tr>\n",
       "            <tr>\n",
       "                        <th id=\"T_7fd07766_f041_11ec_8585_a171df5ca128level0_row5\" class=\"row_heading level0 row5\" >RM</th>\n",
       "                        <td id=\"T_7fd07766_f041_11ec_8585_a171df5ca128row5_col0\" class=\"data row5 col0\" >-0.219247</td>\n",
       "                        <td id=\"T_7fd07766_f041_11ec_8585_a171df5ca128row5_col1\" class=\"data row5 col1\" >0.311991</td>\n",
       "                        <td id=\"T_7fd07766_f041_11ec_8585_a171df5ca128row5_col2\" class=\"data row5 col2\" >-0.391676</td>\n",
       "                        <td id=\"T_7fd07766_f041_11ec_8585_a171df5ca128row5_col3\" class=\"data row5 col3\" >0.091251</td>\n",
       "                        <td id=\"T_7fd07766_f041_11ec_8585_a171df5ca128row5_col4\" class=\"data row5 col4\" >-0.302188</td>\n",
       "                        <td id=\"T_7fd07766_f041_11ec_8585_a171df5ca128row5_col5\" class=\"data row5 col5\" >1.000000</td>\n",
       "                        <td id=\"T_7fd07766_f041_11ec_8585_a171df5ca128row5_col6\" class=\"data row5 col6\" >-0.240265</td>\n",
       "                        <td id=\"T_7fd07766_f041_11ec_8585_a171df5ca128row5_col7\" class=\"data row5 col7\" >0.205246</td>\n",
       "                        <td id=\"T_7fd07766_f041_11ec_8585_a171df5ca128row5_col8\" class=\"data row5 col8\" >-0.209847</td>\n",
       "                        <td id=\"T_7fd07766_f041_11ec_8585_a171df5ca128row5_col9\" class=\"data row5 col9\" >-0.292048</td>\n",
       "                        <td id=\"T_7fd07766_f041_11ec_8585_a171df5ca128row5_col10\" class=\"data row5 col10\" >-0.355501</td>\n",
       "                        <td id=\"T_7fd07766_f041_11ec_8585_a171df5ca128row5_col11\" class=\"data row5 col11\" >0.128069</td>\n",
       "                        <td id=\"T_7fd07766_f041_11ec_8585_a171df5ca128row5_col12\" class=\"data row5 col12\" >-0.613808</td>\n",
       "                        <td id=\"T_7fd07766_f041_11ec_8585_a171df5ca128row5_col13\" class=\"data row5 col13\" >0.695360</td>\n",
       "            </tr>\n",
       "            <tr>\n",
       "                        <th id=\"T_7fd07766_f041_11ec_8585_a171df5ca128level0_row6\" class=\"row_heading level0 row6\" >AGE</th>\n",
       "                        <td id=\"T_7fd07766_f041_11ec_8585_a171df5ca128row6_col0\" class=\"data row6 col0\" >0.352734</td>\n",
       "                        <td id=\"T_7fd07766_f041_11ec_8585_a171df5ca128row6_col1\" class=\"data row6 col1\" >-0.569537</td>\n",
       "                        <td id=\"T_7fd07766_f041_11ec_8585_a171df5ca128row6_col2\" class=\"data row6 col2\" >0.644779</td>\n",
       "                        <td id=\"T_7fd07766_f041_11ec_8585_a171df5ca128row6_col3\" class=\"data row6 col3\" >0.086518</td>\n",
       "                        <td id=\"T_7fd07766_f041_11ec_8585_a171df5ca128row6_col4\" class=\"data row6 col4\" >0.731470</td>\n",
       "                        <td id=\"T_7fd07766_f041_11ec_8585_a171df5ca128row6_col5\" class=\"data row6 col5\" >-0.240265</td>\n",
       "                        <td id=\"T_7fd07766_f041_11ec_8585_a171df5ca128row6_col6\" class=\"data row6 col6\" >1.000000</td>\n",
       "                        <td id=\"T_7fd07766_f041_11ec_8585_a171df5ca128row6_col7\" class=\"data row6 col7\" >-0.747881</td>\n",
       "                        <td id=\"T_7fd07766_f041_11ec_8585_a171df5ca128row6_col8\" class=\"data row6 col8\" >0.456022</td>\n",
       "                        <td id=\"T_7fd07766_f041_11ec_8585_a171df5ca128row6_col9\" class=\"data row6 col9\" >0.506456</td>\n",
       "                        <td id=\"T_7fd07766_f041_11ec_8585_a171df5ca128row6_col10\" class=\"data row6 col10\" >0.261515</td>\n",
       "                        <td id=\"T_7fd07766_f041_11ec_8585_a171df5ca128row6_col11\" class=\"data row6 col11\" >-0.273534</td>\n",
       "                        <td id=\"T_7fd07766_f041_11ec_8585_a171df5ca128row6_col12\" class=\"data row6 col12\" >0.602339</td>\n",
       "                        <td id=\"T_7fd07766_f041_11ec_8585_a171df5ca128row6_col13\" class=\"data row6 col13\" >-0.376955</td>\n",
       "            </tr>\n",
       "            <tr>\n",
       "                        <th id=\"T_7fd07766_f041_11ec_8585_a171df5ca128level0_row7\" class=\"row_heading level0 row7\" >DIS</th>\n",
       "                        <td id=\"T_7fd07766_f041_11ec_8585_a171df5ca128row7_col0\" class=\"data row7 col0\" >-0.379670</td>\n",
       "                        <td id=\"T_7fd07766_f041_11ec_8585_a171df5ca128row7_col1\" class=\"data row7 col1\" >0.664408</td>\n",
       "                        <td id=\"T_7fd07766_f041_11ec_8585_a171df5ca128row7_col2\" class=\"data row7 col2\" >-0.708027</td>\n",
       "                        <td id=\"T_7fd07766_f041_11ec_8585_a171df5ca128row7_col3\" class=\"data row7 col3\" >-0.099176</td>\n",
       "                        <td id=\"T_7fd07766_f041_11ec_8585_a171df5ca128row7_col4\" class=\"data row7 col4\" >-0.769230</td>\n",
       "                        <td id=\"T_7fd07766_f041_11ec_8585_a171df5ca128row7_col5\" class=\"data row7 col5\" >0.205246</td>\n",
       "                        <td id=\"T_7fd07766_f041_11ec_8585_a171df5ca128row7_col6\" class=\"data row7 col6\" >-0.747881</td>\n",
       "                        <td id=\"T_7fd07766_f041_11ec_8585_a171df5ca128row7_col7\" class=\"data row7 col7\" >1.000000</td>\n",
       "                        <td id=\"T_7fd07766_f041_11ec_8585_a171df5ca128row7_col8\" class=\"data row7 col8\" >-0.494588</td>\n",
       "                        <td id=\"T_7fd07766_f041_11ec_8585_a171df5ca128row7_col9\" class=\"data row7 col9\" >-0.534432</td>\n",
       "                        <td id=\"T_7fd07766_f041_11ec_8585_a171df5ca128row7_col10\" class=\"data row7 col10\" >-0.232471</td>\n",
       "                        <td id=\"T_7fd07766_f041_11ec_8585_a171df5ca128row7_col11\" class=\"data row7 col11\" >0.291512</td>\n",
       "                        <td id=\"T_7fd07766_f041_11ec_8585_a171df5ca128row7_col12\" class=\"data row7 col12\" >-0.496996</td>\n",
       "                        <td id=\"T_7fd07766_f041_11ec_8585_a171df5ca128row7_col13\" class=\"data row7 col13\" >0.249929</td>\n",
       "            </tr>\n",
       "            <tr>\n",
       "                        <th id=\"T_7fd07766_f041_11ec_8585_a171df5ca128level0_row8\" class=\"row_heading level0 row8\" >RAD</th>\n",
       "                        <td id=\"T_7fd07766_f041_11ec_8585_a171df5ca128row8_col0\" class=\"data row8 col0\" >0.625505</td>\n",
       "                        <td id=\"T_7fd07766_f041_11ec_8585_a171df5ca128row8_col1\" class=\"data row8 col1\" >-0.311948</td>\n",
       "                        <td id=\"T_7fd07766_f041_11ec_8585_a171df5ca128row8_col2\" class=\"data row8 col2\" >0.595129</td>\n",
       "                        <td id=\"T_7fd07766_f041_11ec_8585_a171df5ca128row8_col3\" class=\"data row8 col3\" >-0.007368</td>\n",
       "                        <td id=\"T_7fd07766_f041_11ec_8585_a171df5ca128row8_col4\" class=\"data row8 col4\" >0.611441</td>\n",
       "                        <td id=\"T_7fd07766_f041_11ec_8585_a171df5ca128row8_col5\" class=\"data row8 col5\" >-0.209847</td>\n",
       "                        <td id=\"T_7fd07766_f041_11ec_8585_a171df5ca128row8_col6\" class=\"data row8 col6\" >0.456022</td>\n",
       "                        <td id=\"T_7fd07766_f041_11ec_8585_a171df5ca128row8_col7\" class=\"data row8 col7\" >-0.494588</td>\n",
       "                        <td id=\"T_7fd07766_f041_11ec_8585_a171df5ca128row8_col8\" class=\"data row8 col8\" >1.000000</td>\n",
       "                        <td id=\"T_7fd07766_f041_11ec_8585_a171df5ca128row8_col9\" class=\"data row8 col9\" >0.910228</td>\n",
       "                        <td id=\"T_7fd07766_f041_11ec_8585_a171df5ca128row8_col10\" class=\"data row8 col10\" >0.464741</td>\n",
       "                        <td id=\"T_7fd07766_f041_11ec_8585_a171df5ca128row8_col11\" class=\"data row8 col11\" >-0.444413</td>\n",
       "                        <td id=\"T_7fd07766_f041_11ec_8585_a171df5ca128row8_col12\" class=\"data row8 col12\" >0.488676</td>\n",
       "                        <td id=\"T_7fd07766_f041_11ec_8585_a171df5ca128row8_col13\" class=\"data row8 col13\" >-0.381626</td>\n",
       "            </tr>\n",
       "            <tr>\n",
       "                        <th id=\"T_7fd07766_f041_11ec_8585_a171df5ca128level0_row9\" class=\"row_heading level0 row9\" >TAX</th>\n",
       "                        <td id=\"T_7fd07766_f041_11ec_8585_a171df5ca128row9_col0\" class=\"data row9 col0\" >0.582764</td>\n",
       "                        <td id=\"T_7fd07766_f041_11ec_8585_a171df5ca128row9_col1\" class=\"data row9 col1\" >-0.314563</td>\n",
       "                        <td id=\"T_7fd07766_f041_11ec_8585_a171df5ca128row9_col2\" class=\"data row9 col2\" >0.720760</td>\n",
       "                        <td id=\"T_7fd07766_f041_11ec_8585_a171df5ca128row9_col3\" class=\"data row9 col3\" >-0.035587</td>\n",
       "                        <td id=\"T_7fd07766_f041_11ec_8585_a171df5ca128row9_col4\" class=\"data row9 col4\" >0.668023</td>\n",
       "                        <td id=\"T_7fd07766_f041_11ec_8585_a171df5ca128row9_col5\" class=\"data row9 col5\" >-0.292048</td>\n",
       "                        <td id=\"T_7fd07766_f041_11ec_8585_a171df5ca128row9_col6\" class=\"data row9 col6\" >0.506456</td>\n",
       "                        <td id=\"T_7fd07766_f041_11ec_8585_a171df5ca128row9_col7\" class=\"data row9 col7\" >-0.534432</td>\n",
       "                        <td id=\"T_7fd07766_f041_11ec_8585_a171df5ca128row9_col8\" class=\"data row9 col8\" >0.910228</td>\n",
       "                        <td id=\"T_7fd07766_f041_11ec_8585_a171df5ca128row9_col9\" class=\"data row9 col9\" >1.000000</td>\n",
       "                        <td id=\"T_7fd07766_f041_11ec_8585_a171df5ca128row9_col10\" class=\"data row9 col10\" >0.460853</td>\n",
       "                        <td id=\"T_7fd07766_f041_11ec_8585_a171df5ca128row9_col11\" class=\"data row9 col11\" >-0.441808</td>\n",
       "                        <td id=\"T_7fd07766_f041_11ec_8585_a171df5ca128row9_col12\" class=\"data row9 col12\" >0.543993</td>\n",
       "                        <td id=\"T_7fd07766_f041_11ec_8585_a171df5ca128row9_col13\" class=\"data row9 col13\" >-0.468536</td>\n",
       "            </tr>\n",
       "            <tr>\n",
       "                        <th id=\"T_7fd07766_f041_11ec_8585_a171df5ca128level0_row10\" class=\"row_heading level0 row10\" >PTRATIO</th>\n",
       "                        <td id=\"T_7fd07766_f041_11ec_8585_a171df5ca128row10_col0\" class=\"data row10 col0\" >0.289946</td>\n",
       "                        <td id=\"T_7fd07766_f041_11ec_8585_a171df5ca128row10_col1\" class=\"data row10 col1\" >-0.391679</td>\n",
       "                        <td id=\"T_7fd07766_f041_11ec_8585_a171df5ca128row10_col2\" class=\"data row10 col2\" >0.383248</td>\n",
       "                        <td id=\"T_7fd07766_f041_11ec_8585_a171df5ca128row10_col3\" class=\"data row10 col3\" >-0.121515</td>\n",
       "                        <td id=\"T_7fd07766_f041_11ec_8585_a171df5ca128row10_col4\" class=\"data row10 col4\" >0.188933</td>\n",
       "                        <td id=\"T_7fd07766_f041_11ec_8585_a171df5ca128row10_col5\" class=\"data row10 col5\" >-0.355501</td>\n",
       "                        <td id=\"T_7fd07766_f041_11ec_8585_a171df5ca128row10_col6\" class=\"data row10 col6\" >0.261515</td>\n",
       "                        <td id=\"T_7fd07766_f041_11ec_8585_a171df5ca128row10_col7\" class=\"data row10 col7\" >-0.232471</td>\n",
       "                        <td id=\"T_7fd07766_f041_11ec_8585_a171df5ca128row10_col8\" class=\"data row10 col8\" >0.464741</td>\n",
       "                        <td id=\"T_7fd07766_f041_11ec_8585_a171df5ca128row10_col9\" class=\"data row10 col9\" >0.460853</td>\n",
       "                        <td id=\"T_7fd07766_f041_11ec_8585_a171df5ca128row10_col10\" class=\"data row10 col10\" >1.000000</td>\n",
       "                        <td id=\"T_7fd07766_f041_11ec_8585_a171df5ca128row10_col11\" class=\"data row10 col11\" >-0.177383</td>\n",
       "                        <td id=\"T_7fd07766_f041_11ec_8585_a171df5ca128row10_col12\" class=\"data row10 col12\" >0.374044</td>\n",
       "                        <td id=\"T_7fd07766_f041_11ec_8585_a171df5ca128row10_col13\" class=\"data row10 col13\" >-0.507787</td>\n",
       "            </tr>\n",
       "            <tr>\n",
       "                        <th id=\"T_7fd07766_f041_11ec_8585_a171df5ca128level0_row11\" class=\"row_heading level0 row11\" >B</th>\n",
       "                        <td id=\"T_7fd07766_f041_11ec_8585_a171df5ca128row11_col0\" class=\"data row11 col0\" >-0.385064</td>\n",
       "                        <td id=\"T_7fd07766_f041_11ec_8585_a171df5ca128row11_col1\" class=\"data row11 col1\" >0.175520</td>\n",
       "                        <td id=\"T_7fd07766_f041_11ec_8585_a171df5ca128row11_col2\" class=\"data row11 col2\" >-0.356977</td>\n",
       "                        <td id=\"T_7fd07766_f041_11ec_8585_a171df5ca128row11_col3\" class=\"data row11 col3\" >0.048788</td>\n",
       "                        <td id=\"T_7fd07766_f041_11ec_8585_a171df5ca128row11_col4\" class=\"data row11 col4\" >-0.380051</td>\n",
       "                        <td id=\"T_7fd07766_f041_11ec_8585_a171df5ca128row11_col5\" class=\"data row11 col5\" >0.128069</td>\n",
       "                        <td id=\"T_7fd07766_f041_11ec_8585_a171df5ca128row11_col6\" class=\"data row11 col6\" >-0.273534</td>\n",
       "                        <td id=\"T_7fd07766_f041_11ec_8585_a171df5ca128row11_col7\" class=\"data row11 col7\" >0.291512</td>\n",
       "                        <td id=\"T_7fd07766_f041_11ec_8585_a171df5ca128row11_col8\" class=\"data row11 col8\" >-0.444413</td>\n",
       "                        <td id=\"T_7fd07766_f041_11ec_8585_a171df5ca128row11_col9\" class=\"data row11 col9\" >-0.441808</td>\n",
       "                        <td id=\"T_7fd07766_f041_11ec_8585_a171df5ca128row11_col10\" class=\"data row11 col10\" >-0.177383</td>\n",
       "                        <td id=\"T_7fd07766_f041_11ec_8585_a171df5ca128row11_col11\" class=\"data row11 col11\" >1.000000</td>\n",
       "                        <td id=\"T_7fd07766_f041_11ec_8585_a171df5ca128row11_col12\" class=\"data row11 col12\" >-0.366087</td>\n",
       "                        <td id=\"T_7fd07766_f041_11ec_8585_a171df5ca128row11_col13\" class=\"data row11 col13\" >0.333461</td>\n",
       "            </tr>\n",
       "            <tr>\n",
       "                        <th id=\"T_7fd07766_f041_11ec_8585_a171df5ca128level0_row12\" class=\"row_heading level0 row12\" >LSTAT</th>\n",
       "                        <td id=\"T_7fd07766_f041_11ec_8585_a171df5ca128row12_col0\" class=\"data row12 col0\" >0.455621</td>\n",
       "                        <td id=\"T_7fd07766_f041_11ec_8585_a171df5ca128row12_col1\" class=\"data row12 col1\" >-0.412995</td>\n",
       "                        <td id=\"T_7fd07766_f041_11ec_8585_a171df5ca128row12_col2\" class=\"data row12 col2\" >0.603800</td>\n",
       "                        <td id=\"T_7fd07766_f041_11ec_8585_a171df5ca128row12_col3\" class=\"data row12 col3\" >-0.053929</td>\n",
       "                        <td id=\"T_7fd07766_f041_11ec_8585_a171df5ca128row12_col4\" class=\"data row12 col4\" >0.590879</td>\n",
       "                        <td id=\"T_7fd07766_f041_11ec_8585_a171df5ca128row12_col5\" class=\"data row12 col5\" >-0.613808</td>\n",
       "                        <td id=\"T_7fd07766_f041_11ec_8585_a171df5ca128row12_col6\" class=\"data row12 col6\" >0.602339</td>\n",
       "                        <td id=\"T_7fd07766_f041_11ec_8585_a171df5ca128row12_col7\" class=\"data row12 col7\" >-0.496996</td>\n",
       "                        <td id=\"T_7fd07766_f041_11ec_8585_a171df5ca128row12_col8\" class=\"data row12 col8\" >0.488676</td>\n",
       "                        <td id=\"T_7fd07766_f041_11ec_8585_a171df5ca128row12_col9\" class=\"data row12 col9\" >0.543993</td>\n",
       "                        <td id=\"T_7fd07766_f041_11ec_8585_a171df5ca128row12_col10\" class=\"data row12 col10\" >0.374044</td>\n",
       "                        <td id=\"T_7fd07766_f041_11ec_8585_a171df5ca128row12_col11\" class=\"data row12 col11\" >-0.366087</td>\n",
       "                        <td id=\"T_7fd07766_f041_11ec_8585_a171df5ca128row12_col12\" class=\"data row12 col12\" >1.000000</td>\n",
       "                        <td id=\"T_7fd07766_f041_11ec_8585_a171df5ca128row12_col13\" class=\"data row12 col13\" >-0.737663</td>\n",
       "            </tr>\n",
       "            <tr>\n",
       "                        <th id=\"T_7fd07766_f041_11ec_8585_a171df5ca128level0_row13\" class=\"row_heading level0 row13\" >Target</th>\n",
       "                        <td id=\"T_7fd07766_f041_11ec_8585_a171df5ca128row13_col0\" class=\"data row13 col0\" >-0.388305</td>\n",
       "                        <td id=\"T_7fd07766_f041_11ec_8585_a171df5ca128row13_col1\" class=\"data row13 col1\" >0.360445</td>\n",
       "                        <td id=\"T_7fd07766_f041_11ec_8585_a171df5ca128row13_col2\" class=\"data row13 col2\" >-0.483725</td>\n",
       "                        <td id=\"T_7fd07766_f041_11ec_8585_a171df5ca128row13_col3\" class=\"data row13 col3\" >0.175260</td>\n",
       "                        <td id=\"T_7fd07766_f041_11ec_8585_a171df5ca128row13_col4\" class=\"data row13 col4\" >-0.427321</td>\n",
       "                        <td id=\"T_7fd07766_f041_11ec_8585_a171df5ca128row13_col5\" class=\"data row13 col5\" >0.695360</td>\n",
       "                        <td id=\"T_7fd07766_f041_11ec_8585_a171df5ca128row13_col6\" class=\"data row13 col6\" >-0.376955</td>\n",
       "                        <td id=\"T_7fd07766_f041_11ec_8585_a171df5ca128row13_col7\" class=\"data row13 col7\" >0.249929</td>\n",
       "                        <td id=\"T_7fd07766_f041_11ec_8585_a171df5ca128row13_col8\" class=\"data row13 col8\" >-0.381626</td>\n",
       "                        <td id=\"T_7fd07766_f041_11ec_8585_a171df5ca128row13_col9\" class=\"data row13 col9\" >-0.468536</td>\n",
       "                        <td id=\"T_7fd07766_f041_11ec_8585_a171df5ca128row13_col10\" class=\"data row13 col10\" >-0.507787</td>\n",
       "                        <td id=\"T_7fd07766_f041_11ec_8585_a171df5ca128row13_col11\" class=\"data row13 col11\" >0.333461</td>\n",
       "                        <td id=\"T_7fd07766_f041_11ec_8585_a171df5ca128row13_col12\" class=\"data row13 col12\" >-0.737663</td>\n",
       "                        <td id=\"T_7fd07766_f041_11ec_8585_a171df5ca128row13_col13\" class=\"data row13 col13\" >1.000000</td>\n",
       "            </tr>\n",
       "    </tbody></table>"
      ],
      "text/plain": [
       "<pandas.io.formats.style.Styler at 0x21e88430c40>"
      ]
     },
     "execution_count": 12,
     "metadata": {},
     "output_type": "execute_result"
    }
   ],
   "source": [
    "# Plotting correlation matrix of the dataset\n",
    "corr = df.corr()\n",
    "corr.style.background_gradient(cmap='coolwarm')"
   ]
  },
  {
   "cell_type": "markdown",
   "metadata": {},
   "source": [
    "### Observations from the above plot\n",
    "#### 1)RM,PTRatio,LSTAT has high correlation with target compared to other features.So we will use these features to predict the target."
   ]
  },
  {
   "cell_type": "code",
   "execution_count": 13,
   "metadata": {},
   "outputs": [],
   "source": [
    "df_final=df[['RM','PTRATIO','LSTAT','Target']]"
   ]
  },
  {
   "cell_type": "code",
   "execution_count": 14,
   "metadata": {},
   "outputs": [
    {
     "data": {
      "text/html": [
       "<div>\n",
       "<style scoped>\n",
       "    .dataframe tbody tr th:only-of-type {\n",
       "        vertical-align: middle;\n",
       "    }\n",
       "\n",
       "    .dataframe tbody tr th {\n",
       "        vertical-align: top;\n",
       "    }\n",
       "\n",
       "    .dataframe thead th {\n",
       "        text-align: right;\n",
       "    }\n",
       "</style>\n",
       "<table border=\"1\" class=\"dataframe\">\n",
       "  <thead>\n",
       "    <tr style=\"text-align: right;\">\n",
       "      <th></th>\n",
       "      <th>RM</th>\n",
       "      <th>PTRATIO</th>\n",
       "      <th>LSTAT</th>\n",
       "      <th>Target</th>\n",
       "    </tr>\n",
       "  </thead>\n",
       "  <tbody>\n",
       "    <tr>\n",
       "      <th>0</th>\n",
       "      <td>6.575</td>\n",
       "      <td>15.3</td>\n",
       "      <td>4.98</td>\n",
       "      <td>24.0</td>\n",
       "    </tr>\n",
       "    <tr>\n",
       "      <th>1</th>\n",
       "      <td>6.421</td>\n",
       "      <td>17.8</td>\n",
       "      <td>9.14</td>\n",
       "      <td>21.6</td>\n",
       "    </tr>\n",
       "    <tr>\n",
       "      <th>2</th>\n",
       "      <td>7.185</td>\n",
       "      <td>17.8</td>\n",
       "      <td>4.03</td>\n",
       "      <td>34.7</td>\n",
       "    </tr>\n",
       "    <tr>\n",
       "      <th>3</th>\n",
       "      <td>6.998</td>\n",
       "      <td>18.7</td>\n",
       "      <td>2.94</td>\n",
       "      <td>33.4</td>\n",
       "    </tr>\n",
       "    <tr>\n",
       "      <th>4</th>\n",
       "      <td>7.147</td>\n",
       "      <td>18.7</td>\n",
       "      <td>5.33</td>\n",
       "      <td>36.2</td>\n",
       "    </tr>\n",
       "  </tbody>\n",
       "</table>\n",
       "</div>"
      ],
      "text/plain": [
       "      RM  PTRATIO  LSTAT  Target\n",
       "0  6.575     15.3   4.98    24.0\n",
       "1  6.421     17.8   9.14    21.6\n",
       "2  7.185     17.8   4.03    34.7\n",
       "3  6.998     18.7   2.94    33.4\n",
       "4  7.147     18.7   5.33    36.2"
      ]
     },
     "execution_count": 14,
     "metadata": {},
     "output_type": "execute_result"
    }
   ],
   "source": [
    "# Final dataset used for model building\n",
    "df_final.head()"
   ]
  },
  {
   "cell_type": "code",
   "execution_count": 15,
   "metadata": {},
   "outputs": [
    {
     "data": {
      "text/html": [
       "<style  type=\"text/css\" >\n",
       "#T_7fda82a8_f041_11ec_9e36_a171df5ca128row0_col0,#T_7fda82a8_f041_11ec_9e36_a171df5ca128row1_col1,#T_7fda82a8_f041_11ec_9e36_a171df5ca128row2_col2,#T_7fda82a8_f041_11ec_9e36_a171df5ca128row3_col3{\n",
       "            background-color:  #b40426;\n",
       "            color:  #f1f1f1;\n",
       "        }#T_7fda82a8_f041_11ec_9e36_a171df5ca128row0_col1{\n",
       "            background-color:  #5977e3;\n",
       "            color:  #000000;\n",
       "        }#T_7fda82a8_f041_11ec_9e36_a171df5ca128row0_col2{\n",
       "            background-color:  #506bda;\n",
       "            color:  #000000;\n",
       "        }#T_7fda82a8_f041_11ec_9e36_a171df5ca128row0_col3{\n",
       "            background-color:  #e9785d;\n",
       "            color:  #000000;\n",
       "        }#T_7fda82a8_f041_11ec_9e36_a171df5ca128row1_col0{\n",
       "            background-color:  #6c8ff1;\n",
       "            color:  #000000;\n",
       "        }#T_7fda82a8_f041_11ec_9e36_a171df5ca128row1_col2{\n",
       "            background-color:  #f5c0a7;\n",
       "            color:  #000000;\n",
       "        }#T_7fda82a8_f041_11ec_9e36_a171df5ca128row1_col3{\n",
       "            background-color:  #6384eb;\n",
       "            color:  #000000;\n",
       "        }#T_7fda82a8_f041_11ec_9e36_a171df5ca128row2_col0,#T_7fda82a8_f041_11ec_9e36_a171df5ca128row2_col3,#T_7fda82a8_f041_11ec_9e36_a171df5ca128row3_col1,#T_7fda82a8_f041_11ec_9e36_a171df5ca128row3_col2{\n",
       "            background-color:  #3b4cc0;\n",
       "            color:  #f1f1f1;\n",
       "        }#T_7fda82a8_f041_11ec_9e36_a171df5ca128row2_col1{\n",
       "            background-color:  #efcebd;\n",
       "            color:  #000000;\n",
       "        }#T_7fda82a8_f041_11ec_9e36_a171df5ca128row3_col0{\n",
       "            background-color:  #ec7f63;\n",
       "            color:  #000000;\n",
       "        }</style><table id=\"T_7fda82a8_f041_11ec_9e36_a171df5ca128\" ><thead>    <tr>        <th class=\"blank level0\" ></th>        <th class=\"col_heading level0 col0\" >RM</th>        <th class=\"col_heading level0 col1\" >PTRATIO</th>        <th class=\"col_heading level0 col2\" >LSTAT</th>        <th class=\"col_heading level0 col3\" >Target</th>    </tr></thead><tbody>\n",
       "                <tr>\n",
       "                        <th id=\"T_7fda82a8_f041_11ec_9e36_a171df5ca128level0_row0\" class=\"row_heading level0 row0\" >RM</th>\n",
       "                        <td id=\"T_7fda82a8_f041_11ec_9e36_a171df5ca128row0_col0\" class=\"data row0 col0\" >1.000000</td>\n",
       "                        <td id=\"T_7fda82a8_f041_11ec_9e36_a171df5ca128row0_col1\" class=\"data row0 col1\" >-0.355501</td>\n",
       "                        <td id=\"T_7fda82a8_f041_11ec_9e36_a171df5ca128row0_col2\" class=\"data row0 col2\" >-0.613808</td>\n",
       "                        <td id=\"T_7fda82a8_f041_11ec_9e36_a171df5ca128row0_col3\" class=\"data row0 col3\" >0.695360</td>\n",
       "            </tr>\n",
       "            <tr>\n",
       "                        <th id=\"T_7fda82a8_f041_11ec_9e36_a171df5ca128level0_row1\" class=\"row_heading level0 row1\" >PTRATIO</th>\n",
       "                        <td id=\"T_7fda82a8_f041_11ec_9e36_a171df5ca128row1_col0\" class=\"data row1 col0\" >-0.355501</td>\n",
       "                        <td id=\"T_7fda82a8_f041_11ec_9e36_a171df5ca128row1_col1\" class=\"data row1 col1\" >1.000000</td>\n",
       "                        <td id=\"T_7fda82a8_f041_11ec_9e36_a171df5ca128row1_col2\" class=\"data row1 col2\" >0.374044</td>\n",
       "                        <td id=\"T_7fda82a8_f041_11ec_9e36_a171df5ca128row1_col3\" class=\"data row1 col3\" >-0.507787</td>\n",
       "            </tr>\n",
       "            <tr>\n",
       "                        <th id=\"T_7fda82a8_f041_11ec_9e36_a171df5ca128level0_row2\" class=\"row_heading level0 row2\" >LSTAT</th>\n",
       "                        <td id=\"T_7fda82a8_f041_11ec_9e36_a171df5ca128row2_col0\" class=\"data row2 col0\" >-0.613808</td>\n",
       "                        <td id=\"T_7fda82a8_f041_11ec_9e36_a171df5ca128row2_col1\" class=\"data row2 col1\" >0.374044</td>\n",
       "                        <td id=\"T_7fda82a8_f041_11ec_9e36_a171df5ca128row2_col2\" class=\"data row2 col2\" >1.000000</td>\n",
       "                        <td id=\"T_7fda82a8_f041_11ec_9e36_a171df5ca128row2_col3\" class=\"data row2 col3\" >-0.737663</td>\n",
       "            </tr>\n",
       "            <tr>\n",
       "                        <th id=\"T_7fda82a8_f041_11ec_9e36_a171df5ca128level0_row3\" class=\"row_heading level0 row3\" >Target</th>\n",
       "                        <td id=\"T_7fda82a8_f041_11ec_9e36_a171df5ca128row3_col0\" class=\"data row3 col0\" >0.695360</td>\n",
       "                        <td id=\"T_7fda82a8_f041_11ec_9e36_a171df5ca128row3_col1\" class=\"data row3 col1\" >-0.507787</td>\n",
       "                        <td id=\"T_7fda82a8_f041_11ec_9e36_a171df5ca128row3_col2\" class=\"data row3 col2\" >-0.737663</td>\n",
       "                        <td id=\"T_7fda82a8_f041_11ec_9e36_a171df5ca128row3_col3\" class=\"data row3 col3\" >1.000000</td>\n",
       "            </tr>\n",
       "    </tbody></table>"
      ],
      "text/plain": [
       "<pandas.io.formats.style.Styler at 0x21ea58ba9a0>"
      ]
     },
     "execution_count": 15,
     "metadata": {},
     "output_type": "execute_result"
    }
   ],
   "source": [
    "# Plotting correlation matrix of final dataset\n",
    "corr = df_final.corr()\n",
    "corr.style.background_gradient(cmap='coolwarm')"
   ]
  },
  {
   "cell_type": "markdown",
   "metadata": {},
   "source": [
    "### Observation from above matrix\n",
    "#### We can also see that there is no much correlation between the features(between + and - 0.9).So no multicollinearity"
   ]
  },
  {
   "cell_type": "markdown",
   "metadata": {},
   "source": [
    "# Preprocessing "
   ]
  },
  {
   "cell_type": "markdown",
   "metadata": {},
   "source": [
    "## Checking the distribution of features"
   ]
  },
  {
   "cell_type": "code",
   "execution_count": 112,
   "metadata": {},
   "outputs": [
    {
     "data": {
      "image/png": "[encoded data removed]",
      "text/plain": [
       "<Figure size 720x720 with 4 Axes>"
      ]
     },
     "metadata": {
      "needs_background": "light"
     },
     "output_type": "display_data"
    }
   ],
   "source": [
    "p=1\n",
    "plt.figure(figsize=(10,10))\n",
    "for i in df_final.columns:\n",
    "    plt.subplot(2,2,p)   #to specify number of rows and columns and postion of each graph\n",
    "    sns.histplot(df_final[i],kde=True)\n",
    "    p=p+1"
   ]
  },
  {
   "cell_type": "markdown",
   "metadata": {},
   "source": [
    "### Observation from above graphs\n",
    "#### 1) RM-Gaussian distribution   , PTRATIO- Left skewed ,LSTAT- Right skewed. PTRATIO and LSTAT has to be converted to normal distribution."
   ]
  },
  {
   "cell_type": "markdown",
   "metadata": {},
   "source": [
    "## Checking for Outliers"
   ]
  },
  {
   "cell_type": "code",
   "execution_count": 113,
   "metadata": {},
   "outputs": [],
   "source": [
    "#Seperating features and target\n",
    "x=df_final.drop('Target',axis=1)\n",
    "y=df.Target"
   ]
  },
  {
   "cell_type": "code",
   "execution_count": 26,
   "metadata": {
    "scrolled": true
   },
   "outputs": [
    {
     "data": {
      "text/plain": [
       "<AxesSubplot:>"
      ]
     },
     "execution_count": 26,
     "metadata": {},
     "output_type": "execute_result"
    },
    {
     "data": {
      "image/png": "[encoded data removed]",
      "text/plain": [
       "<Figure size 1440x1440 with 1 Axes>"
      ]
     },
     "metadata": {
      "needs_background": "light"
     },
     "output_type": "display_data"
    }
   ],
   "source": [
    "fig ,ax =plt.subplots(figsize =(20,20))\n",
    "sns.boxplot(data=x,ax=ax)"
   ]
  },
  {
   "cell_type": "markdown",
   "metadata": {},
   "source": [
    "#### From above boxplot we can see that the outliers are present in cas of all the features"
   ]
  },
  {
   "cell_type": "markdown",
   "metadata": {},
   "source": [
    "## Outlier Handling"
   ]
  },
  {
   "cell_type": "code",
   "execution_count": 27,
   "metadata": {},
   "outputs": [],
   "source": [
    "#Dataset for outlier handling\n",
    "df_out=df_final.copy()"
   ]
  },
  {
   "cell_type": "code",
   "execution_count": 28,
   "metadata": {},
   "outputs": [
    {
     "data": {
      "text/plain": [
       "(506, 4)"
      ]
     },
     "execution_count": 28,
     "metadata": {},
     "output_type": "execute_result"
    }
   ],
   "source": [
    "#Size of data before outlier handling\n",
    "df_out.shape"
   ]
  },
  {
   "cell_type": "code",
   "execution_count": 29,
   "metadata": {},
   "outputs": [],
   "source": [
    "# Outlier handling by using IQR Method\n",
    "for i in x.columns:\n",
    "    q1=df_out[i].quantile(0.25)  #get 25th quantile\n",
    "    q2=df_out[i].quantile(0.50)  #get 50th quantile\n",
    "    q3=df_out[i].quantile(0.75)  #get 75th quantile\n",
    "    IQR=q3-q1                    #Inter quantile range\n",
    "    l_bound=q1-(IQR*1.5)         #Lower bound \n",
    "    u_bound=q3+(IQR*1.5)         #Upper bound\n",
    "    df_out=df_out[(df_out[i]>l_bound) & (df_out[i]<u_bound)]   #Select all data between lbound and ubound"
   ]
  },
  {
   "cell_type": "code",
   "execution_count": 30,
   "metadata": {},
   "outputs": [
    {
     "data": {
      "text/plain": [
       "(460, 4)"
      ]
     },
     "execution_count": 30,
     "metadata": {},
     "output_type": "execute_result"
    }
   ],
   "source": [
    "#Size of data after outlier handling\n",
    "df_out.shape"
   ]
  },
  {
   "cell_type": "code",
   "execution_count": 34,
   "metadata": {
    "scrolled": true
   },
   "outputs": [
    {
     "data": {
      "text/plain": [
       "<AxesSubplot:>"
      ]
     },
     "execution_count": 34,
     "metadata": {},
     "output_type": "execute_result"
    },
    {
     "data": {
      "image/png": "[encoded data removed]",
      "text/plain": [
       "<Figure size 1440x1440 with 1 Axes>"
      ]
     },
     "metadata": {
      "needs_background": "light"
     },
     "output_type": "display_data"
    }
   ],
   "source": [
    "# Boxplot after outlier handling\n",
    "fig ,ax =plt.subplots(figsize =(20,20))\n",
    "sns.boxplot(data=df_out,ax=ax)"
   ]
  },
  {
   "cell_type": "markdown",
   "metadata": {},
   "source": [
    "#### From above boxplot we can see that for all features the outliers are removed"
   ]
  },
  {
   "cell_type": "markdown",
   "metadata": {},
   "source": [
    "## Transformation of features to normal distribution"
   ]
  },
  {
   "cell_type": "code",
   "execution_count": 137,
   "metadata": {},
   "outputs": [],
   "source": [
    "x=df_out.drop('Target',axis=1)\n",
    "y=df_out['Target']"
   ]
  },
  {
   "cell_type": "code",
   "execution_count": 48,
   "metadata": {},
   "outputs": [],
   "source": [
    "#### If you want to check whether feature is guassian or normal distributed\n",
    "#### Q-Q plot\n",
    "def plot_data(df,feature):\n",
    "    plt.figure(figsize=(10,6))\n",
    "    plt.subplot(1,2,1)\n",
    "    df[feature].hist()\n",
    "    plt.subplot(1,2,2)\n",
    "    stat.probplot(df[feature],dist='norm',plot=pylab)\n",
    "    plt.show()\n",
    "    "
   ]
  },
  {
   "cell_type": "code",
   "execution_count": 117,
   "metadata": {},
   "outputs": [
    {
     "name": "stdout",
     "output_type": "stream",
     "text": [
      "RM\n"
     ]
    },
    {
     "data": {
      "image/png": "[encoded data removed]",
      "text/plain": [
       "<Figure size 720x432 with 2 Axes>"
      ]
     },
     "metadata": {
      "needs_background": "light"
     },
     "output_type": "display_data"
    },
    {
     "name": "stdout",
     "output_type": "stream",
     "text": [
      "PTRATIO\n"
     ]
    },
    {
     "data": {
      "image/png": "[encoded data removed]",
      "text/plain": [
       "<Figure size 720x432 with 2 Axes>"
      ]
     },
     "metadata": {
      "needs_background": "light"
     },
     "output_type": "display_data"
    },
    {
     "name": "stdout",
     "output_type": "stream",
     "text": [
      "LSTAT\n"
     ]
    },
    {
     "data": {
      "image/png": "[encoded data removed]",
      "text/plain": [
       "<Figure size 720x432 with 2 Axes>"
      ]
     },
     "metadata": {
      "needs_background": "light"
     },
     "output_type": "display_data"
    }
   ],
   "source": [
    "# Plot qq plot of each feature\n",
    "for i in x.columns:\n",
    "    print(i)\n",
    "    plot_data(x,i) "
   ]
  },
  {
   "cell_type": "code",
   "execution_count": 138,
   "metadata": {},
   "outputs": [],
   "source": [
    "#dataset for transformation\n",
    "df_trans=x.copy()"
   ]
  },
  {
   "cell_type": "code",
   "execution_count": 139,
   "metadata": {},
   "outputs": [],
   "source": [
    "#Import library for power transformation\n",
    "from sklearn.preprocessing import PowerTransformer\n",
    "pt = PowerTransformer(standardize =False)\n",
    "#df_pt=pt.fit_transform(x[['PTRATIO','LSTAT']])"
   ]
  },
  {
   "cell_type": "code",
   "execution_count": 140,
   "metadata": {
    "scrolled": false
   },
   "outputs": [
    {
     "name": "stdout",
     "output_type": "stream",
     "text": [
      "RM\n",
      "Without transformation\n"
     ]
    },
    {
     "data": {
      "image/png": "[encoded data removed]",
      "text/plain": [
       "<Figure size 720x432 with 2 Axes>"
      ]
     },
     "metadata": {
      "needs_background": "light"
     },
     "output_type": "display_data"
    },
    {
     "name": "stdout",
     "output_type": "stream",
     "text": [
      "LOG TRANSFORMATION\n"
     ]
    },
    {
     "data": {
      "image/png": "[encoded data removed]",
      "text/plain": [
       "<Figure size 720x432 with 2 Axes>"
      ]
     },
     "metadata": {
      "needs_background": "light"
     },
     "output_type": "display_data"
    },
    {
     "name": "stdout",
     "output_type": "stream",
     "text": [
      "SQUARE TRANSFORMATION\n"
     ]
    },
    {
     "data": {
      "image/png": "[encoded data removed]",
      "text/plain": [
       "<Figure size 720x432 with 2 Axes>"
      ]
     },
     "metadata": {
      "needs_background": "light"
     },
     "output_type": "display_data"
    },
    {
     "name": "stdout",
     "output_type": "stream",
     "text": [
      "YEO JOHNSON TRANSFORMATION\n"
     ]
    },
    {
     "data": {
      "image/png": "[encoded data removed]",
      "text/plain": [
       "<Figure size 720x432 with 2 Axes>"
      ]
     },
     "metadata": {
      "needs_background": "light"
     },
     "output_type": "display_data"
    },
    {
     "name": "stdout",
     "output_type": "stream",
     "text": [
      "************************************************************************************************************************\n",
      "PTRATIO\n",
      "Without transformation\n"
     ]
    },
    {
     "data": {
      "image/png": "[encoded data removed]",
      "text/plain": [
       "<Figure size 720x432 with 2 Axes>"
      ]
     },
     "metadata": {
      "needs_background": "light"
     },
     "output_type": "display_data"
    },
    {
     "name": "stdout",
     "output_type": "stream",
     "text": [
      "LOG TRANSFORMATION\n"
     ]
    },
    {
     "data": {
      "image/png": "[encoded data removed]",
      "text/plain": [
       "<Figure size 720x432 with 2 Axes>"
      ]
     },
     "metadata": {
      "needs_background": "light"
     },
     "output_type": "display_data"
    },
    {
     "name": "stdout",
     "output_type": "stream",
     "text": [
      "SQUARE TRANSFORMATION\n"
     ]
    },
    {
     "data": {
      "image/png": "[encoded data removed]",
      "text/plain": [
       "<Figure size 720x432 with 2 Axes>"
      ]
     },
     "metadata": {
      "needs_background": "light"
     },
     "output_type": "display_data"
    },
    {
     "name": "stdout",
     "output_type": "stream",
     "text": [
      "YEO JOHNSON TRANSFORMATION\n"
     ]
    },
    {
     "data": {
      "image/png": "[encoded data removed]",
      "text/plain": [
       "<Figure size 720x432 with 2 Axes>"
      ]
     },
     "metadata": {
      "needs_background": "light"
     },
     "output_type": "display_data"
    },
    {
     "name": "stdout",
     "output_type": "stream",
     "text": [
      "************************************************************************************************************************\n",
      "LSTAT\n",
      "Without transformation\n"
     ]
    },
    {
     "data": {
      "image/png": "[encoded data removed]",
      "text/plain": [
       "<Figure size 720x432 with 2 Axes>"
      ]
     },
     "metadata": {
      "needs_background": "light"
     },
     "output_type": "display_data"
    },
    {
     "name": "stdout",
     "output_type": "stream",
     "text": [
      "LOG TRANSFORMATION\n"
     ]
    },
    {
     "data": {
      "image/png": "[encoded data removed]",
      "text/plain": [
       "<Figure size 720x432 with 2 Axes>"
      ]
     },
     "metadata": {
      "needs_background": "light"
     },
     "output_type": "display_data"
    },
    {
     "name": "stdout",
     "output_type": "stream",
     "text": [
      "SQUARE TRANSFORMATION\n"
     ]
    },
    {
     "data": {
      "image/png": "[encoded data removed]",
      "text/plain": [
       "<Figure size 720x432 with 2 Axes>"
      ]
     },
     "metadata": {
      "needs_background": "light"
     },
     "output_type": "display_data"
    },
    {
     "name": "stdout",
     "output_type": "stream",
     "text": [
      "YEO JOHNSON TRANSFORMATION\n"
     ]
    },
    {
     "data": {
      "image/png": "[encoded data removed]",
      "text/plain": [
       "<Figure size 720x432 with 2 Axes>"
      ]
     },
     "metadata": {
      "needs_background": "light"
     },
     "output_type": "display_data"
    },
    {
     "name": "stdout",
     "output_type": "stream",
     "text": [
      "************************************************************************************************************************\n"
     ]
    }
   ],
   "source": [
    "#Transformation of each features\n",
    "#Types of transformation used--log,square,yeo johnson\n",
    "for i in df_trans.columns:\n",
    "    print(i)\n",
    "    print('Without transformation')\n",
    "    plot_data(df_trans,i)\n",
    "    print('LOG TRANSFORMATION')\n",
    "    df_trans[i+'_log']=np.log(df_trans[i])\n",
    "    plot_data(df_trans,i+'_log')\n",
    "    print('SQUARE TRANSFORMATION')\n",
    "    df_trans[i+'_square']=df_trans.PTRATIO**(1/2)\n",
    "    plot_data(df_trans,i+'_square')\n",
    "    print('YEO JOHNSON TRANSFORMATION')\n",
    "    #df_trans[i+'_Boxcox'],parameters=stat.boxcox(df_trans[i])\n",
    "    df_trans[i+'_yj']=pt.fit_transform(df_trans[[i]])\n",
    "    plot_data(df_trans,i+'_yj')\n",
    "    print('*'*120)"
   ]
  },
  {
   "cell_type": "code",
   "execution_count": 141,
   "metadata": {},
   "outputs": [
    {
     "data": {
      "text/html": [
       "<div>\n",
       "<style scoped>\n",
       "    .dataframe tbody tr th:only-of-type {\n",
       "        vertical-align: middle;\n",
       "    }\n",
       "\n",
       "    .dataframe tbody tr th {\n",
       "        vertical-align: top;\n",
       "    }\n",
       "\n",
       "    .dataframe thead th {\n",
       "        text-align: right;\n",
       "    }\n",
       "</style>\n",
       "<table border=\"1\" class=\"dataframe\">\n",
       "  <thead>\n",
       "    <tr style=\"text-align: right;\">\n",
       "      <th></th>\n",
       "      <th>RM</th>\n",
       "      <th>PTRATIO</th>\n",
       "      <th>LSTAT</th>\n",
       "      <th>RM_log</th>\n",
       "      <th>RM_square</th>\n",
       "      <th>RM_yj</th>\n",
       "      <th>PTRATIO_log</th>\n",
       "      <th>PTRATIO_square</th>\n",
       "      <th>PTRATIO_yj</th>\n",
       "      <th>LSTAT_log</th>\n",
       "      <th>LSTAT_square</th>\n",
       "      <th>LSTAT_yj</th>\n",
       "    </tr>\n",
       "  </thead>\n",
       "  <tbody>\n",
       "    <tr>\n",
       "      <th>0</th>\n",
       "      <td>6.575</td>\n",
       "      <td>15.3</td>\n",
       "      <td>4.98</td>\n",
       "      <td>1.883275</td>\n",
       "      <td>3.911521</td>\n",
       "      <td>2.231043</td>\n",
       "      <td>2.727853</td>\n",
       "      <td>3.911521</td>\n",
       "      <td>86911.770314</td>\n",
       "      <td>1.605430</td>\n",
       "      <td>3.911521</td>\n",
       "      <td>2.238042</td>\n",
       "    </tr>\n",
       "    <tr>\n",
       "      <th>1</th>\n",
       "      <td>6.421</td>\n",
       "      <td>17.8</td>\n",
       "      <td>9.14</td>\n",
       "      <td>1.859574</td>\n",
       "      <td>4.219005</td>\n",
       "      <td>2.206207</td>\n",
       "      <td>2.879198</td>\n",
       "      <td>4.219005</td>\n",
       "      <td>168101.233612</td>\n",
       "      <td>2.212660</td>\n",
       "      <td>4.219005</td>\n",
       "      <td>3.106538</td>\n",
       "    </tr>\n",
       "    <tr>\n",
       "      <th>2</th>\n",
       "      <td>7.185</td>\n",
       "      <td>17.8</td>\n",
       "      <td>4.03</td>\n",
       "      <td>1.971996</td>\n",
       "      <td>4.219005</td>\n",
       "      <td>2.325127</td>\n",
       "      <td>2.879198</td>\n",
       "      <td>4.219005</td>\n",
       "      <td>168101.233612</td>\n",
       "      <td>1.393766</td>\n",
       "      <td>4.219005</td>\n",
       "      <td>1.976820</td>\n",
       "    </tr>\n",
       "    <tr>\n",
       "      <th>3</th>\n",
       "      <td>6.998</td>\n",
       "      <td>18.7</td>\n",
       "      <td>2.94</td>\n",
       "      <td>1.945624</td>\n",
       "      <td>4.324350</td>\n",
       "      <td>2.296980</td>\n",
       "      <td>2.928524</td>\n",
       "      <td>4.324350</td>\n",
       "      <td>208668.901710</td>\n",
       "      <td>1.078410</td>\n",
       "      <td>4.324350</td>\n",
       "      <td>1.626169</td>\n",
       "    </tr>\n",
       "    <tr>\n",
       "      <th>4</th>\n",
       "      <td>7.147</td>\n",
       "      <td>18.7</td>\n",
       "      <td>5.33</td>\n",
       "      <td>1.966693</td>\n",
       "      <td>4.324350</td>\n",
       "      <td>2.319455</td>\n",
       "      <td>2.928524</td>\n",
       "      <td>4.324350</td>\n",
       "      <td>208668.901710</td>\n",
       "      <td>1.673351</td>\n",
       "      <td>4.324350</td>\n",
       "      <td>2.326345</td>\n",
       "    </tr>\n",
       "  </tbody>\n",
       "</table>\n",
       "</div>"
      ],
      "text/plain": [
       "      RM  PTRATIO  LSTAT    RM_log  RM_square     RM_yj  PTRATIO_log  \\\n",
       "0  6.575     15.3   4.98  1.883275   3.911521  2.231043     2.727853   \n",
       "1  6.421     17.8   9.14  1.859574   4.219005  2.206207     2.879198   \n",
       "2  7.185     17.8   4.03  1.971996   4.219005  2.325127     2.879198   \n",
       "3  6.998     18.7   2.94  1.945624   4.324350  2.296980     2.928524   \n",
       "4  7.147     18.7   5.33  1.966693   4.324350  2.319455     2.928524   \n",
       "\n",
       "   PTRATIO_square     PTRATIO_yj  LSTAT_log  LSTAT_square  LSTAT_yj  \n",
       "0        3.911521   86911.770314   1.605430      3.911521  2.238042  \n",
       "1        4.219005  168101.233612   2.212660      4.219005  3.106538  \n",
       "2        4.219005  168101.233612   1.393766      4.219005  1.976820  \n",
       "3        4.324350  208668.901710   1.078410      4.324350  1.626169  \n",
       "4        4.324350  208668.901710   1.673351      4.324350  2.326345  "
      ]
     },
     "execution_count": 141,
     "metadata": {},
     "output_type": "execute_result"
    }
   ],
   "source": [
    "#Dataset with all transformation\n",
    "df_trans.head()"
   ]
  },
  {
   "cell_type": "markdown",
   "metadata": {},
   "source": [
    "### Observation from above analysis\n",
    "#### 1) RM--no transformation required\n",
    "#### 2) PTRATIO ,LSTAT -- Yeo johnson transformation required"
   ]
  },
  {
   "cell_type": "code",
   "execution_count": 142,
   "metadata": {},
   "outputs": [],
   "source": [
    "#Final dataset after transformation\n",
    "x_t=x.copy()\n",
    "x_t[['PTRATIO','LSTAT']]=pt.fit_transform(x[['PTRATIO','LSTAT']])"
   ]
  },
  {
   "cell_type": "code",
   "execution_count": 143,
   "metadata": {},
   "outputs": [
    {
     "data": {
      "text/html": [
       "<div>\n",
       "<style scoped>\n",
       "    .dataframe tbody tr th:only-of-type {\n",
       "        vertical-align: middle;\n",
       "    }\n",
       "\n",
       "    .dataframe tbody tr th {\n",
       "        vertical-align: top;\n",
       "    }\n",
       "\n",
       "    .dataframe thead th {\n",
       "        text-align: right;\n",
       "    }\n",
       "</style>\n",
       "<table border=\"1\" class=\"dataframe\">\n",
       "  <thead>\n",
       "    <tr style=\"text-align: right;\">\n",
       "      <th></th>\n",
       "      <th>RM</th>\n",
       "      <th>PTRATIO</th>\n",
       "      <th>LSTAT</th>\n",
       "    </tr>\n",
       "  </thead>\n",
       "  <tbody>\n",
       "    <tr>\n",
       "      <th>0</th>\n",
       "      <td>6.575</td>\n",
       "      <td>86911.770314</td>\n",
       "      <td>2.238042</td>\n",
       "    </tr>\n",
       "    <tr>\n",
       "      <th>1</th>\n",
       "      <td>6.421</td>\n",
       "      <td>168101.233612</td>\n",
       "      <td>3.106538</td>\n",
       "    </tr>\n",
       "    <tr>\n",
       "      <th>2</th>\n",
       "      <td>7.185</td>\n",
       "      <td>168101.233612</td>\n",
       "      <td>1.976820</td>\n",
       "    </tr>\n",
       "    <tr>\n",
       "      <th>3</th>\n",
       "      <td>6.998</td>\n",
       "      <td>208668.901710</td>\n",
       "      <td>1.626169</td>\n",
       "    </tr>\n",
       "    <tr>\n",
       "      <th>4</th>\n",
       "      <td>7.147</td>\n",
       "      <td>208668.901710</td>\n",
       "      <td>2.326345</td>\n",
       "    </tr>\n",
       "    <tr>\n",
       "      <th>...</th>\n",
       "      <td>...</td>\n",
       "      <td>...</td>\n",
       "      <td>...</td>\n",
       "    </tr>\n",
       "    <tr>\n",
       "      <th>501</th>\n",
       "      <td>6.593</td>\n",
       "      <td>347666.771804</td>\n",
       "      <td>3.196354</td>\n",
       "    </tr>\n",
       "    <tr>\n",
       "      <th>502</th>\n",
       "      <td>6.120</td>\n",
       "      <td>347666.771804</td>\n",
       "      <td>3.096148</td>\n",
       "    </tr>\n",
       "    <tr>\n",
       "      <th>503</th>\n",
       "      <td>6.976</td>\n",
       "      <td>347666.771804</td>\n",
       "      <td>2.401516</td>\n",
       "    </tr>\n",
       "    <tr>\n",
       "      <th>504</th>\n",
       "      <td>6.794</td>\n",
       "      <td>347666.771804</td>\n",
       "      <td>2.592631</td>\n",
       "    </tr>\n",
       "    <tr>\n",
       "      <th>505</th>\n",
       "      <td>6.030</td>\n",
       "      <td>347666.771804</td>\n",
       "      <td>2.877761</td>\n",
       "    </tr>\n",
       "  </tbody>\n",
       "</table>\n",
       "<p>460 rows × 3 columns</p>\n",
       "</div>"
      ],
      "text/plain": [
       "        RM        PTRATIO     LSTAT\n",
       "0    6.575   86911.770314  2.238042\n",
       "1    6.421  168101.233612  3.106538\n",
       "2    7.185  168101.233612  1.976820\n",
       "3    6.998  208668.901710  1.626169\n",
       "4    7.147  208668.901710  2.326345\n",
       "..     ...            ...       ...\n",
       "501  6.593  347666.771804  3.196354\n",
       "502  6.120  347666.771804  3.096148\n",
       "503  6.976  347666.771804  2.401516\n",
       "504  6.794  347666.771804  2.592631\n",
       "505  6.030  347666.771804  2.877761\n",
       "\n",
       "[460 rows x 3 columns]"
      ]
     },
     "execution_count": 143,
     "metadata": {},
     "output_type": "execute_result"
    }
   ],
   "source": [
    "x_t"
   ]
  },
  {
   "cell_type": "markdown",
   "metadata": {},
   "source": [
    "## Model Building"
   ]
  },
  {
   "cell_type": "code",
   "execution_count": 35,
   "metadata": {},
   "outputs": [],
   "source": [
    "#importing necessary libraries\n",
    "from sklearn.preprocessing import StandardScaler\n",
    "from sklearn.model_selection import train_test_split\n",
    "from sklearn import linear_model\n",
    "import pickle"
   ]
  },
  {
   "cell_type": "code",
   "execution_count": 144,
   "metadata": {},
   "outputs": [],
   "source": [
    "#Standardise the data\n",
    "sc=StandardScaler()\n",
    "x_scaled=sc.fit_transform(x_t)"
   ]
  },
  {
   "cell_type": "code",
   "execution_count": 145,
   "metadata": {},
   "outputs": [
    {
     "data": {
      "text/plain": [
       "array([[ 0.70045916, -1.56111517, -1.38728365],\n",
       "       [ 0.39695856, -0.62928192, -0.42987353],\n",
       "       [ 1.90263684, -0.62928192, -1.67524831],\n",
       "       ...,\n",
       "       [ 1.49074318,  1.43163994, -1.20707322],\n",
       "       [ 1.13206065,  1.43163994, -0.99639228],\n",
       "       [-0.37361763,  1.43163994, -0.68207185]])"
      ]
     },
     "execution_count": 145,
     "metadata": {},
     "output_type": "execute_result"
    }
   ],
   "source": [
    "x_scaled"
   ]
  },
  {
   "cell_type": "code",
   "execution_count": 149,
   "metadata": {},
   "outputs": [],
   "source": [
    "#train test split\n",
    "x_train,x_test,y_train,y_test=train_test_split(x_scaled,y,random_state=1,test_size =0.25)"
   ]
  },
  {
   "cell_type": "code",
   "execution_count": 150,
   "metadata": {},
   "outputs": [
    {
     "data": {
      "text/plain": [
       "LinearRegression()"
      ]
     },
     "execution_count": 150,
     "metadata": {},
     "output_type": "execute_result"
    }
   ],
   "source": [
    "lr=linear_model.LinearRegression()   #Object Initialisation\n",
    "lr.fit(x_train,y_train)              #training the model using train data"
   ]
  },
  {
   "cell_type": "code",
   "execution_count": 151,
   "metadata": {},
   "outputs": [],
   "source": [
    "y_pred=lr.predict(x_test)           #predicting test data using trained model"
   ]
  },
  {
   "cell_type": "code",
   "execution_count": 152,
   "metadata": {},
   "outputs": [
    {
     "data": {
      "text/plain": [
       "0.6378713071097443"
      ]
     },
     "execution_count": 152,
     "metadata": {},
     "output_type": "execute_result"
    }
   ],
   "source": [
    "#Using cross validation with 10 folds\n",
    "from sklearn.model_selection import cross_val_score\n",
    "score=cross_val_score(lr,x_train,y_train,cv=10)\n",
    "score.mean()"
   ]
  },
  {
   "cell_type": "code",
   "execution_count": 158,
   "metadata": {},
   "outputs": [],
   "source": [
    "#function to calculate adjusted r2 for linear regression\n",
    "def adj_r2(a,b,model):\n",
    "    #scores=cross_val_score(model, a, b, cv=10)\n",
    "    #r2 = scores.mean()\n",
    "    r2=model.score(a,b)\n",
    "    n = a.shape[0]\n",
    "    p = a.shape[1]\n",
    "    adjusted_r2 = 1-(1-r2)*(n-1)/(n-p-1)\n",
    "    return adjusted_r2\n",
    "\n",
    "def adj_r2new(a,b,model):\n",
    "    scores=cross_val_score(model, a, b, cv=10)\n",
    "    #r2 = scores.mean()\n",
    "    n = a.shape[0]\n",
    "    p = a.shape[1]\n",
    "    ar_list=[]\n",
    "    for i in scores:\n",
    "        adjusted_r2 = 1-(1-i)*(n-1)/(n-p-1)\n",
    "        ar_list.append(adjusted_r2)\n",
    "    return sum(ar_list)/len(ar_list)"
   ]
  },
  {
   "cell_type": "code",
   "execution_count": 154,
   "metadata": {},
   "outputs": [
    {
     "data": {
      "text/plain": [
       "0.6604238160499019"
      ]
     },
     "execution_count": 154,
     "metadata": {},
     "output_type": "execute_result"
    }
   ],
   "source": [
    "lr.score(x_train,y_train)    #R squared value for trainig data"
   ]
  },
  {
   "cell_type": "code",
   "execution_count": 155,
   "metadata": {},
   "outputs": [
    {
     "data": {
      "text/plain": [
       "0.6822985961931579"
      ]
     },
     "execution_count": 155,
     "metadata": {},
     "output_type": "execute_result"
    }
   ],
   "source": [
    "lr.score(x_test,y_test)      #R squared value for test data"
   ]
  },
  {
   "cell_type": "code",
   "execution_count": 156,
   "metadata": {},
   "outputs": [
    {
     "name": "stdout",
     "output_type": "stream",
     "text": [
      "0.65743634229081\n",
      "0.6346854241810911\n"
     ]
    }
   ],
   "source": [
    "print(adj_r2(x_train,y_train,lr))        #Adjusted r squared for training data\n",
    "print(adj_r2new(x_train,y_train,lr))     #Adjusted r squared for trainig data with cv"
   ]
  },
  {
   "cell_type": "code",
   "execution_count": 157,
   "metadata": {},
   "outputs": [
    {
     "name": "stdout",
     "output_type": "stream",
     "text": [
      "0.6737120717659459\n",
      "0.642327922873269\n"
     ]
    }
   ],
   "source": [
    "print(adj_r2(x_test,y_test,lr))         #Adjusted r squared for test data\n",
    "print(adj_r2new(x_test,y_test,lr))      #Adjusted r squared for test data with cv"
   ]
  },
  {
   "cell_type": "markdown",
   "metadata": {},
   "source": [
    "#### Linear regression model gives train accuracy of 63.46% and test accuracy of 64.23 %\n",
    "#### There is no overfitting so no need of ridge and lasso regularisation.\n",
    "#### The test accuracy is better then train accuracy and the values are close,so we can say there is some stability in the model"
   ]
  },
  {
   "cell_type": "markdown",
   "metadata": {},
   "source": [
    "## Saving the model"
   ]
  },
  {
   "cell_type": "code",
   "execution_count": 173,
   "metadata": {},
   "outputs": [],
   "source": [
    "pickle.dump(lr, open('linear_model.sav', 'wb'))"
   ]
  },
  {
   "cell_type": "code",
   "execution_count": 264,
   "metadata": {},
   "outputs": [],
   "source": [
    "pickle.dump(sc, open('stand.sav', 'wb'))"
   ]
  },
  {
   "cell_type": "code",
   "execution_count": 265,
   "metadata": {},
   "outputs": [],
   "source": [
    "pickle.dump(pt, open('p_transform.sav', 'wb'))"
   ]
  },
  {
   "cell_type": "code",
   "execution_count": 250,
   "metadata": {},
   "outputs": [],
   "source": [
    "a,b,c=6.012,15.2,12.43"
   ]
  },
  {
   "cell_type": "code",
   "execution_count": null,
   "metadata": {},
   "outputs": [],
   "source": []
  },
  {
   "cell_type": "code",
   "execution_count": 251,
   "metadata": {},
   "outputs": [
    {
     "data": {
      "text/plain": [
       "array([[8.44739959e+04, 3.61599586e+00]])"
      ]
     },
     "execution_count": 251,
     "metadata": {},
     "output_type": "execute_result"
    }
   ],
   "source": [
    "x=pt.transform(np.array([b,c]).reshape(1,-1))\n",
    "x"
   ]
  },
  {
   "cell_type": "code",
   "execution_count": 252,
   "metadata": {},
   "outputs": [
    {
     "data": {
      "text/plain": [
       "array([[6.012]])"
      ]
     },
     "execution_count": 252,
     "metadata": {},
     "output_type": "execute_result"
    }
   ],
   "source": [
    "y=np.array([a],ndmin=2)\n",
    "y"
   ]
  },
  {
   "cell_type": "code",
   "execution_count": 253,
   "metadata": {},
   "outputs": [],
   "source": [
    "arr=np.append(y,x)"
   ]
  },
  {
   "cell_type": "code",
   "execution_count": 254,
   "metadata": {},
   "outputs": [
    {
     "data": {
      "text/plain": [
       "array([[-0.40909173, -1.58909416,  0.13174072]])"
      ]
     },
     "execution_count": 254,
     "metadata": {},
     "output_type": "execute_result"
    }
   ],
   "source": [
    "z=sc.transform([arr])\n",
    "z"
   ]
  },
  {
   "cell_type": "code",
   "execution_count": 255,
   "metadata": {},
   "outputs": [
    {
     "data": {
      "text/plain": [
       "array([21.9162545])"
      ]
     },
     "execution_count": 255,
     "metadata": {},
     "output_type": "execute_result"
    }
   ],
   "source": [
    "lr.predict(z)"
   ]
  },
  {
   "cell_type": "code",
   "execution_count": 243,
   "metadata": {},
   "outputs": [
    {
     "data": {
      "text/html": [
       "<div>\n",
       "<style scoped>\n",
       "    .dataframe tbody tr th:only-of-type {\n",
       "        vertical-align: middle;\n",
       "    }\n",
       "\n",
       "    .dataframe tbody tr th {\n",
       "        vertical-align: top;\n",
       "    }\n",
       "\n",
       "    .dataframe thead th {\n",
       "        text-align: right;\n",
       "    }\n",
       "</style>\n",
       "<table border=\"1\" class=\"dataframe\">\n",
       "  <thead>\n",
       "    <tr style=\"text-align: right;\">\n",
       "      <th></th>\n",
       "      <th>RM</th>\n",
       "      <th>PTRATIO</th>\n",
       "      <th>LSTAT</th>\n",
       "      <th>Target</th>\n",
       "    </tr>\n",
       "  </thead>\n",
       "  <tbody>\n",
       "    <tr>\n",
       "      <th>0</th>\n",
       "      <td>6.575</td>\n",
       "      <td>15.3</td>\n",
       "      <td>4.98</td>\n",
       "      <td>24.0</td>\n",
       "    </tr>\n",
       "    <tr>\n",
       "      <th>1</th>\n",
       "      <td>6.421</td>\n",
       "      <td>17.8</td>\n",
       "      <td>9.14</td>\n",
       "      <td>21.6</td>\n",
       "    </tr>\n",
       "    <tr>\n",
       "      <th>2</th>\n",
       "      <td>7.185</td>\n",
       "      <td>17.8</td>\n",
       "      <td>4.03</td>\n",
       "      <td>34.7</td>\n",
       "    </tr>\n",
       "    <tr>\n",
       "      <th>3</th>\n",
       "      <td>6.998</td>\n",
       "      <td>18.7</td>\n",
       "      <td>2.94</td>\n",
       "      <td>33.4</td>\n",
       "    </tr>\n",
       "    <tr>\n",
       "      <th>4</th>\n",
       "      <td>7.147</td>\n",
       "      <td>18.7</td>\n",
       "      <td>5.33</td>\n",
       "      <td>36.2</td>\n",
       "    </tr>\n",
       "    <tr>\n",
       "      <th>5</th>\n",
       "      <td>6.430</td>\n",
       "      <td>18.7</td>\n",
       "      <td>5.21</td>\n",
       "      <td>28.7</td>\n",
       "    </tr>\n",
       "    <tr>\n",
       "      <th>6</th>\n",
       "      <td>6.012</td>\n",
       "      <td>15.2</td>\n",
       "      <td>12.43</td>\n",
       "      <td>22.9</td>\n",
       "    </tr>\n",
       "    <tr>\n",
       "      <th>7</th>\n",
       "      <td>6.172</td>\n",
       "      <td>15.2</td>\n",
       "      <td>19.15</td>\n",
       "      <td>27.1</td>\n",
       "    </tr>\n",
       "    <tr>\n",
       "      <th>8</th>\n",
       "      <td>5.631</td>\n",
       "      <td>15.2</td>\n",
       "      <td>29.93</td>\n",
       "      <td>16.5</td>\n",
       "    </tr>\n",
       "    <tr>\n",
       "      <th>9</th>\n",
       "      <td>6.004</td>\n",
       "      <td>15.2</td>\n",
       "      <td>17.10</td>\n",
       "      <td>18.9</td>\n",
       "    </tr>\n",
       "  </tbody>\n",
       "</table>\n",
       "</div>"
      ],
      "text/plain": [
       "      RM  PTRATIO  LSTAT  Target\n",
       "0  6.575     15.3   4.98    24.0\n",
       "1  6.421     17.8   9.14    21.6\n",
       "2  7.185     17.8   4.03    34.7\n",
       "3  6.998     18.7   2.94    33.4\n",
       "4  7.147     18.7   5.33    36.2\n",
       "5  6.430     18.7   5.21    28.7\n",
       "6  6.012     15.2  12.43    22.9\n",
       "7  6.172     15.2  19.15    27.1\n",
       "8  5.631     15.2  29.93    16.5\n",
       "9  6.004     15.2  17.10    18.9"
      ]
     },
     "execution_count": 243,
     "metadata": {},
     "output_type": "execute_result"
    }
   ],
   "source": [
    "df_final.head(10)"
   ]
  },
  {
   "cell_type": "code",
   "execution_count": 262,
   "metadata": {},
   "outputs": [],
   "source": [
    "filename1 = 'p_transform.sav'\n",
    "load_trans = pickle.load(open(filename1, 'rb'))"
   ]
  },
  {
   "cell_type": "code",
   "execution_count": 263,
   "metadata": {},
   "outputs": [
    {
     "ename": "AttributeError",
     "evalue": "'LinearRegression' object has no attribute 'transform'",
     "output_type": "error",
     "traceback": [
      "\u001b[1;31m---------------------------------------------------------------------------\u001b[0m",
      "\u001b[1;31mAttributeError\u001b[0m                            Traceback (most recent call last)",
      "\u001b[1;32m<ipython-input-263-1d83881d7a41>\u001b[0m in \u001b[0;36m<module>\u001b[1;34m\u001b[0m\n\u001b[1;32m----> 1\u001b[1;33m \u001b[0mload_trans\u001b[0m\u001b[1;33m.\u001b[0m\u001b[0mtransform\u001b[0m\u001b[1;33m(\u001b[0m\u001b[0mnp\u001b[0m\u001b[1;33m.\u001b[0m\u001b[0marray\u001b[0m\u001b[1;33m(\u001b[0m\u001b[1;33m[\u001b[0m\u001b[0mb\u001b[0m\u001b[1;33m,\u001b[0m\u001b[0mc\u001b[0m\u001b[1;33m]\u001b[0m\u001b[1;33m)\u001b[0m\u001b[1;33m.\u001b[0m\u001b[0mreshape\u001b[0m\u001b[1;33m(\u001b[0m\u001b[1;36m1\u001b[0m\u001b[1;33m,\u001b[0m\u001b[1;33m-\u001b[0m\u001b[1;36m1\u001b[0m\u001b[1;33m)\u001b[0m\u001b[1;33m)\u001b[0m\u001b[1;33m\u001b[0m\u001b[1;33m\u001b[0m\u001b[0m\n\u001b[0m",
      "\u001b[1;31mAttributeError\u001b[0m: 'LinearRegression' object has no attribute 'transform'"
     ]
    }
   ],
   "source": [
    "load_trans.transform(np.array([b,c]).reshape(1,-1))"
   ]
  },
  {
   "cell_type": "code",
   "execution_count": null,
   "metadata": {},
   "outputs": [],
   "source": []
  }
 ],
 "metadata": {
  "kernelspec": {
   "display_name": "Python 3",
   "language": "python",
   "name": "python3"
  },
  "language_info": {
   "codemirror_mode": {
    "name": "ipython",
    "version": 3
   },
   "file_extension": ".py",
   "mimetype": "text/x-python",
   "name": "python",
   "nbconvert_exporter": "python",
   "pygments_lexer": "ipython3",
   "version": "3.8.5"
  }
 },
 "nbformat": 4,
 "nbformat_minor": 4
}
